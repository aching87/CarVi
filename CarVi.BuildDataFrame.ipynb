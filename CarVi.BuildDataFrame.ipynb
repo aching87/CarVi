{
 "cells": [
  {
   "cell_type": "code",
   "execution_count": 1,
   "metadata": {
    "collapsed": true
   },
   "outputs": [],
   "source": [
    "import numpy as np\n",
    "import pandas as pd\n",
    "import matplotlib.pyplot as plt\n",
    "%matplotlib inline"
   ]
  },
  {
   "cell_type": "code",
   "execution_count": 2,
   "metadata": {
    "collapsed": false
   },
   "outputs": [
    {
     "name": "stdout",
     "output_type": "stream",
     "text": [
      "C:\\Users\\Amy\\Google Drive\\CarVi\\CarviCSV\n"
     ]
    }
   ],
   "source": [
    "cd C:\\Users\\Amy\\Google Drive\\CarVi\\CarviCSV"
   ]
  },
  {
   "cell_type": "markdown",
   "metadata": {},
   "source": [
    "#PERIOD"
   ]
  },
  {
   "cell_type": "code",
   "execution_count": 3,
   "metadata": {
    "collapsed": false
   },
   "outputs": [
    {
     "data": {
      "text/plain": [
       "Index([u'period_id', u'camera_id', u'mileage', u'collision_mileage', u'open'], dtype='object')"
      ]
     },
     "execution_count": 3,
     "metadata": {},
     "output_type": "execute_result"
    }
   ],
   "source": [
    "periodsDF=pd.read_csv('periods.csv')\n",
    "#period.head()\n",
    "periodsDF.shape\n",
    "periodsDF.columns"
   ]
  },
  {
   "cell_type": "code",
   "execution_count": 4,
   "metadata": {
    "collapsed": true
   },
   "outputs": [],
   "source": [
    "periodsDF['period_id']=periodsDF['period_id'].apply(str) # changing the period_ID to string"
   ]
  },
  {
   "cell_type": "code",
   "execution_count": 5,
   "metadata": {
    "collapsed": false
   },
   "outputs": [],
   "source": [
    "#periodsDF['camera_id'].unique()\n",
    "#print len(periods[periods['mileage']==0])\n",
    "#periods[periods['mileage']==0].describe(include='all')\n",
    "#periods[periods['mileage']>0].describe(include='all')\n",
    "#periods.head(40)"
   ]
  },
  {
   "cell_type": "markdown",
   "metadata": {},
   "source": [
    "#MOTION"
   ]
  },
  {
   "cell_type": "code",
   "execution_count": 8,
   "metadata": {
    "collapsed": false
   },
   "outputs": [
    {
     "data": {
      "text/plain": [
       "(64893, 8)"
      ]
     },
     "execution_count": 8,
     "metadata": {},
     "output_type": "execute_result"
    }
   ],
   "source": [
    "motionsDF=pd.read_csv('motions.csv')\n",
    "#motionsDF.head()\n",
    "motionsDF['motion_id']=motionsDF['motion_id'].apply(str)\n",
    "motionsDF['period_id']=motionsDF['period_id'].apply(str)\n",
    "motionsDF['event']=motionsDF['event'].apply(str)\n",
    "motionsDF['time_stamp']=pd.to_datetime(motionsDF['time_stamp'])\n",
    "motionsDF.shape"
   ]
  },
  {
   "cell_type": "code",
   "execution_count": 9,
   "metadata": {
    "collapsed": false
   },
   "outputs": [],
   "source": [
    "#motions.describe(include='all')\n",
    "#motions['period_id'].value_counts()"
   ]
  },
  {
   "cell_type": "code",
   "execution_count": 10,
   "metadata": {
    "collapsed": false
   },
   "outputs": [],
   "source": [
    "#motionsDF['event'].value_counts().plot(kind='bar')\n",
    "# 4=lane departure, 7=sudden acceleration, 1=lane change, 5=forward collision\n",
    "#print motionsDF['event'].value_counts()'''"
   ]
  },
  {
   "cell_type": "markdown",
   "metadata": {},
   "source": [
    "#MILES"
   ]
  },
  {
   "cell_type": "code",
   "execution_count": 11,
   "metadata": {
    "collapsed": false
   },
   "outputs": [
    {
     "data": {
      "text/plain": [
       "(887, 5)"
      ]
     },
     "execution_count": 11,
     "metadata": {},
     "output_type": "execute_result"
    }
   ],
   "source": [
    "milesDF=pd.read_csv('miles.csv')\n",
    "milesDF['mile_id']=milesDF['mile_id'].apply(str)\n",
    "milesDF['period_id']=milesDF['period_id'].apply(str)\n",
    "milesDF['motion_id']=milesDF['motion_id'].apply(str)\n",
    "#miles.describe(include='all')\n",
    "#milesDF.head()\n",
    "#milesDF.describe(include='all')\n",
    "milesDF.shape\n"
   ]
  },
  {
   "cell_type": "code",
   "execution_count": 12,
   "metadata": {
    "collapsed": false,
    "scrolled": true
   },
   "outputs": [],
   "source": [
    "#pd.merge(motions ,miles[miles['period_id']=='40'],  how='inner', sort='mile_id')\n",
    "#miles[miles['mileage']==0].describe(include='all')"
   ]
  },
  {
   "cell_type": "markdown",
   "metadata": {},
   "source": [
    "#COLLISION"
   ]
  },
  {
   "cell_type": "code",
   "execution_count": 13,
   "metadata": {
    "collapsed": false
   },
   "outputs": [
    {
     "data": {
      "text/plain": [
       "(6535, 4)"
      ]
     },
     "execution_count": 13,
     "metadata": {},
     "output_type": "execute_result"
    }
   ],
   "source": [
    "collisionsDF=pd.read_csv('collision.csv')\n",
    "#collision.head\n",
    "\n",
    "collisionsDF['collision_id']=collisionsDF['collision_id'].apply(str)\n",
    "collisionsDF['motion_id']=collisionsDF['motion_id'].apply(str)\n",
    "collisionsDF['reaction']=collisionsDF['reaction'].apply(str)\n",
    "collisionsDF.shape\n"
   ]
  },
  {
   "cell_type": "code",
   "execution_count": 14,
   "metadata": {
    "collapsed": false,
    "scrolled": true
   },
   "outputs": [],
   "source": [
    "#collisionsDF.describe(include='all')\n",
    "#collision['reaction'].value_counts().plot(kind='bar')"
   ]
  },
  {
   "cell_type": "markdown",
   "metadata": {},
   "source": [
    "#FRONT"
   ]
  },
  {
   "cell_type": "code",
   "execution_count": 15,
   "metadata": {
    "collapsed": false
   },
   "outputs": [
    {
     "data": {
      "text/plain": [
       "(22245, 4)"
      ]
     },
     "execution_count": 15,
     "metadata": {},
     "output_type": "execute_result"
    }
   ],
   "source": [
    "frontsDF=pd.read_csv('front.csv')\n",
    "frontsDF['front_id']=frontsDF['front_id'].apply(str)\n",
    "frontsDF['motion_id']=frontsDF['motion_id'].apply(str)\n",
    "#frontsDF.head()\n",
    "frontsDF.shape"
   ]
  },
  {
   "cell_type": "code",
   "execution_count": 16,
   "metadata": {
    "collapsed": false
   },
   "outputs": [],
   "source": [
    "#frontsDF.describe(include='all')"
   ]
  },
  {
   "cell_type": "markdown",
   "metadata": {},
   "source": [
    "#DEPARTURE"
   ]
  },
  {
   "cell_type": "code",
   "execution_count": 17,
   "metadata": {
    "collapsed": false
   },
   "outputs": [
    {
     "data": {
      "text/plain": [
       "(25176, 5)"
      ]
     },
     "execution_count": 17,
     "metadata": {},
     "output_type": "execute_result"
    }
   ],
   "source": [
    "departuresDF=pd.read_csv('departure.csv')\n",
    "#departuresDF.head()\n",
    "departuresDF['departure_id']=departuresDF['departure_id'].apply(str)\n",
    "departuresDF['motion_id']=departuresDF['motion_id'].apply(str)\n",
    "departuresDF['lane_kind']=departuresDF['lane_kind'].apply(str)\n",
    "departuresDF['reaction']=departuresDF['reaction'].apply(str)\n",
    "departuresDF['direction']=departuresDF['direction'].apply(str)\n",
    "departuresDF.shape"
   ]
  },
  {
   "cell_type": "code",
   "execution_count": 18,
   "metadata": {
    "collapsed": false
   },
   "outputs": [],
   "source": [
    "#departure.describe(include='all')\n",
    "#departure['direction'].value_counts()"
   ]
  },
  {
   "cell_type": "markdown",
   "metadata": {},
   "source": [
    "#SUDDENS"
   ]
  },
  {
   "cell_type": "code",
   "execution_count": 20,
   "metadata": {
    "collapsed": false
   },
   "outputs": [
    {
     "data": {
      "text/plain": [
       "(766, 4)"
      ]
     },
     "execution_count": 20,
     "metadata": {},
     "output_type": "execute_result"
    }
   ],
   "source": [
    "suddensDF=pd.read_csv('suddens.csv')\n",
    "suddensDF['sudden_id']=suddensDF['sudden_id'].apply(str)\n",
    "suddensDF['motion_id']=suddensDF['motion_id'].apply(str)\n",
    "suddensDF['situation']=suddensDF['situation'].apply(str)\n",
    "suddensDF['front_reason']=suddensDF['front_reason'].apply(str)\n",
    "#suddensDF.head()\n",
    "suddensDF.shape"
   ]
  },
  {
   "cell_type": "code",
   "execution_count": 21,
   "metadata": {
    "collapsed": false
   },
   "outputs": [],
   "source": [
    "#suddensDF.describe(include='all')\n",
    "#suddens['situation'].value_counts()\n",
    "# 1=sudden stop, 3=suddent acceleration\n",
    "#suddens['front_reason'].value_counts()"
   ]
  },
  {
   "cell_type": "code",
   "execution_count": 22,
   "metadata": {
    "collapsed": false,
    "scrolled": true
   },
   "outputs": [],
   "source": [
    "#pd.merge(motions, suddens[suddens['situation']=='1.0'], how='inner', on='motion_id')\n",
    "#pd.merge(motions[motions['period_id']=='2124'], suddens, how='left', on='motion_id')"
   ]
  },
  {
   "cell_type": "code",
   "execution_count": 23,
   "metadata": {
    "collapsed": false
   },
   "outputs": [
    {
     "data": {
      "text/plain": [
       "100"
      ]
     },
     "execution_count": 23,
     "metadata": {},
     "output_type": "execute_result"
    }
   ],
   "source": [
    "uniqueperiods100=motionsDF['period_id'].unique()[:100]\n",
    "len(uniqueperiods100)"
   ]
  },
  {
   "cell_type": "code",
   "execution_count": 28,
   "metadata": {
    "collapsed": false
   },
   "outputs": [
    {
     "data": {
      "text/plain": [
       "5.371428571428571"
      ]
     },
     "execution_count": 28,
     "metadata": {},
     "output_type": "execute_result"
    }
   ],
   "source": [
    "np.mean(motionsDF[motionsDF['period_id']=='40']['bias'])"
   ]
  },
  {
   "cell_type": "markdown",
   "metadata": {
    "collapsed": true
   },
   "source": [
    "# Building the Data Frame "
   ]
  },
  {
   "cell_type": "code",
   "execution_count": 32,
   "metadata": {
    "collapsed": false
   },
   "outputs": [],
   "source": [
    "bigframe=pd.DataFrame()\n",
    "motionsDF=motionsDF[motionsDF.event!='100']# when does an actual driving trip start and end? why do some period_id have 100 vs 900, etc\n",
    "motionsDF=motionsDF[motionsDF.event!='900']\n",
    "eventlist=['normalE','passingE','changeE','departureE','collisionE','suddenE','frontE']\n",
    "eventd={'1':'normalE','2':'passingE','3':'changeE','4':'departureE','5':'collisionE','6':'suddenE','7':'frontE'}\n",
    "\n",
    "suddenslist=['suddenStop','suddenBrake','suddenAccel']\n",
    "suddensd={'1.0':'suddenStop', '2.0':'suddenBrake', '3.0':'suddenAccel', 'nan':'suddenNaN'}\n",
    "\n",
    "colReactlist=['CReact_ignore_departL','CReact_reduceSpeed','CReact_changeL']\n",
    "colReactd={'1.0':'CReact_ignore_departL','2.0':'CReact_reduceSpeed', '3.0':'CReact_changeL','nan':'colReactNaN'}\n",
    "\n",
    "motionsDF['bias']=motionsDF['bias']+5\n",
    "\n",
    "for period in uniqueperiods100:\n",
    "    periodframe=pd.DataFrame()\n",
    "    periodframe=periodframe.append({'period_id':period},ignore_index=True)\n",
    "    \n",
    "    #total miles\n",
    "    periodframe['total_mileage']=float(periodsDF[periodsDF['period_id']==period]['mileage'])\n",
    "    \n",
    "    #event counts\n",
    "    periodevents=motionsDF[motionsDF['period_id']==period]['event'].value_counts().to_frame().reset_index()\n",
    "    periodevents['index']=periodevents['index'].map(eventd)\n",
    "    for event in eventlist:\n",
    "         if event not in np.array(periodevents['index']):\n",
    "                periodframe[event]=0\n",
    "    periodevents=periodevents.set_index('index')\n",
    "    periodeventsT=periodevents.T\n",
    "    periodframe=pd.concat([periodframe,periodeventsT], axis=1)\n",
    "    \n",
    "    # sudden counts\n",
    "    motionids=motionsDF[(motionsDF['event']=='6')&(motionsDF['period_id']==period)]\n",
    "    motionsudden=pd.merge(motionids,suddensDF, how='inner', on='motion_id')['situation'].value_counts().dropna().to_frame().reset_index()\n",
    "    motionsudden['index']=motionsudden['index'].map(suddensd)\n",
    "    for sEvent in suddenslist:\n",
    "         if sEvent not in np.array(motionsudden['index']):\n",
    "                periodframe[sEvent]=0\n",
    "    motionsudden=motionsudden.set_index('index')\n",
    "    motionsuddenT=motionsudden.T\n",
    "    periodframe=pd.concat([periodframe,motionsuddenT], axis=1)\n",
    "\n",
    "    # avg front distance\n",
    "    avg_frontdist=np.mean(motionsDF[motionsDF['period_id']==period]['front_distance'])\n",
    "    periodframe['avg_frontdist']= avg_frontdist\n",
    "    \n",
    "    \n",
    "    # avg speed\n",
    "    avg_speed=np.mean(motionsDF[motionsDF['period_id']==period]['speed'])\n",
    "    periodframe['avg_speed']=avg_speed\n",
    "    \n",
    "    # avg collision \n",
    "    for i in milesDF.period_id.unique():\n",
    "        if period==i:\n",
    "            final_colmi=milesDF[milesDF['period_id']==period]['collision_mileage'].tail(1).iloc[0]\n",
    "            num_coll_alert= len(milesDF[milesDF['period_id']==period]['collision_mileage'].unique())\n",
    "            if num_coll_alert>0:\n",
    "                mi_per_col=final_colmi/num_coll_alert\n",
    "            else:\n",
    "                mi_per_col=0\n",
    "    periodframe['mi_per_col']=mi_per_col\n",
    "    \n",
    "    # avg bias\n",
    "    avg_bias=np.mean(motionsDF[motionsDF['period_id']==period]['bias'])\n",
    "    \n",
    "    # collision reaction counts\n",
    "    ColMotionids=motionsDF[(motionsDF['event']=='5')&(motionsDF['period_id']==period)]\n",
    "    MotionCollision=pd.merge(ColMotionids,collisionsDF, how='inner', on='motion_id')['reaction'].value_counts().dropna().to_frame().reset_index()\n",
    "    MotionCollision['index']= MotionCollision['index'].map(colReactd)\n",
    "    for cEvent in colReactlist:\n",
    "         if cEvent not in np.array(MotionCollision['index']):\n",
    "                periodframe[cEvent]=0\n",
    "    MotionCollision=MotionCollision.set_index('index')\n",
    "    MotionCollisionT=MotionCollision.T\n",
    "    periodframe=pd.concat([periodframe,MotionCollisionT], axis=1)\n",
    "    \n",
    "\n",
    "    # add periodDF to bigframe\n",
    "    bigframe=pd.concat([bigframe, periodframe])\n",
    "\n",
    "bigframe=bigframe.set_index('period_id')\n",
    "bigframe.drop('suddenNaN', axis=1, level=None, inplace=True)\n",
    "#bigframe.drop('colReactNaN', axis=1, level=None, inplace=True)\n",
    "#bigframe.drop('suddenBrake', axis=1, level=None, inplace=True)"
   ]
  },
  {
   "cell_type": "code",
   "execution_count": 33,
   "metadata": {
    "collapsed": false
   },
   "outputs": [
    {
     "data": {
      "text/html": [
       "<div>\n",
       "<table border=\"1\" class=\"dataframe\">\n",
       "  <thead>\n",
       "    <tr style=\"text-align: right;\">\n",
       "      <th></th>\n",
       "      <th>CReact_changeL</th>\n",
       "      <th>CReact_ignore_departL</th>\n",
       "      <th>CReact_reduceSpeed</th>\n",
       "      <th>avg_frontdist</th>\n",
       "      <th>avg_speed</th>\n",
       "      <th>changeE</th>\n",
       "      <th>collisionE</th>\n",
       "      <th>departureE</th>\n",
       "      <th>frontE</th>\n",
       "      <th>mi_per_col</th>\n",
       "      <th>normalE</th>\n",
       "      <th>passingE</th>\n",
       "      <th>suddenAccel</th>\n",
       "      <th>suddenBrake</th>\n",
       "      <th>suddenE</th>\n",
       "      <th>suddenStop</th>\n",
       "      <th>total_mileage</th>\n",
       "    </tr>\n",
       "    <tr>\n",
       "      <th>period_id</th>\n",
       "      <th></th>\n",
       "      <th></th>\n",
       "      <th></th>\n",
       "      <th></th>\n",
       "      <th></th>\n",
       "      <th></th>\n",
       "      <th></th>\n",
       "      <th></th>\n",
       "      <th></th>\n",
       "      <th></th>\n",
       "      <th></th>\n",
       "      <th></th>\n",
       "      <th></th>\n",
       "      <th></th>\n",
       "      <th></th>\n",
       "      <th></th>\n",
       "      <th></th>\n",
       "    </tr>\n",
       "  </thead>\n",
       "  <tbody>\n",
       "    <tr>\n",
       "      <th>39</th>\n",
       "      <td>0</td>\n",
       "      <td>2</td>\n",
       "      <td>0</td>\n",
       "      <td>9.769231</td>\n",
       "      <td>28.692308</td>\n",
       "      <td>0</td>\n",
       "      <td>2</td>\n",
       "      <td>0</td>\n",
       "      <td>0</td>\n",
       "      <td>0.060424</td>\n",
       "      <td>1</td>\n",
       "      <td>0</td>\n",
       "      <td>10</td>\n",
       "      <td>0</td>\n",
       "      <td>10</td>\n",
       "      <td>0</td>\n",
       "      <td>0.734434</td>\n",
       "    </tr>\n",
       "    <tr>\n",
       "      <th>40</th>\n",
       "      <td>0</td>\n",
       "      <td>3</td>\n",
       "      <td>0</td>\n",
       "      <td>65.457143</td>\n",
       "      <td>50.942857</td>\n",
       "      <td>0</td>\n",
       "      <td>3</td>\n",
       "      <td>11</td>\n",
       "      <td>0</td>\n",
       "      <td>0.059055</td>\n",
       "      <td>13</td>\n",
       "      <td>0</td>\n",
       "      <td>41</td>\n",
       "      <td>0</td>\n",
       "      <td>43</td>\n",
       "      <td>0</td>\n",
       "      <td>11.015816</td>\n",
       "    </tr>\n",
       "    <tr>\n",
       "      <th>41</th>\n",
       "      <td>0</td>\n",
       "      <td>0</td>\n",
       "      <td>0</td>\n",
       "      <td>62.937500</td>\n",
       "      <td>26.625000</td>\n",
       "      <td>0</td>\n",
       "      <td>0</td>\n",
       "      <td>2</td>\n",
       "      <td>0</td>\n",
       "      <td>0.003986</td>\n",
       "      <td>1</td>\n",
       "      <td>0</td>\n",
       "      <td>13</td>\n",
       "      <td>0</td>\n",
       "      <td>13</td>\n",
       "      <td>0</td>\n",
       "      <td>0.485110</td>\n",
       "    </tr>\n",
       "    <tr>\n",
       "      <th>42</th>\n",
       "      <td>0</td>\n",
       "      <td>0</td>\n",
       "      <td>0</td>\n",
       "      <td>59.000000</td>\n",
       "      <td>37.200000</td>\n",
       "      <td>0</td>\n",
       "      <td>0</td>\n",
       "      <td>1</td>\n",
       "      <td>0</td>\n",
       "      <td>0.020828</td>\n",
       "      <td>1</td>\n",
       "      <td>0</td>\n",
       "      <td>3</td>\n",
       "      <td>0</td>\n",
       "      <td>3</td>\n",
       "      <td>0</td>\n",
       "      <td>1.075047</td>\n",
       "    </tr>\n",
       "    <tr>\n",
       "      <th>43</th>\n",
       "      <td>0</td>\n",
       "      <td>0</td>\n",
       "      <td>0</td>\n",
       "      <td>18.636364</td>\n",
       "      <td>31.242424</td>\n",
       "      <td>0</td>\n",
       "      <td>0</td>\n",
       "      <td>7</td>\n",
       "      <td>0</td>\n",
       "      <td>0.011047</td>\n",
       "      <td>3</td>\n",
       "      <td>0</td>\n",
       "      <td>21</td>\n",
       "      <td>0</td>\n",
       "      <td>23</td>\n",
       "      <td>1</td>\n",
       "      <td>1.750838</td>\n",
       "    </tr>\n",
       "  </tbody>\n",
       "</table>\n",
       "</div>"
      ],
      "text/plain": [
       "           CReact_changeL  CReact_ignore_departL  CReact_reduceSpeed  \\\n",
       "period_id                                                              \n",
       "39                      0                      2                   0   \n",
       "40                      0                      3                   0   \n",
       "41                      0                      0                   0   \n",
       "42                      0                      0                   0   \n",
       "43                      0                      0                   0   \n",
       "\n",
       "           avg_frontdist  avg_speed  changeE  collisionE  departureE  frontE  \\\n",
       "period_id                                                                      \n",
       "39              9.769231  28.692308        0           2           0       0   \n",
       "40             65.457143  50.942857        0           3          11       0   \n",
       "41             62.937500  26.625000        0           0           2       0   \n",
       "42             59.000000  37.200000        0           0           1       0   \n",
       "43             18.636364  31.242424        0           0           7       0   \n",
       "\n",
       "           mi_per_col  normalE  passingE  suddenAccel  suddenBrake  suddenE  \\\n",
       "period_id                                                                     \n",
       "39           0.060424        1         0           10            0       10   \n",
       "40           0.059055       13         0           41            0       43   \n",
       "41           0.003986        1         0           13            0       13   \n",
       "42           0.020828        1         0            3            0        3   \n",
       "43           0.011047        3         0           21            0       23   \n",
       "\n",
       "           suddenStop  total_mileage  \n",
       "period_id                             \n",
       "39                  0       0.734434  \n",
       "40                  0      11.015816  \n",
       "41                  0       0.485110  \n",
       "42                  0       1.075047  \n",
       "43                  1       1.750838  "
      ]
     },
     "execution_count": 33,
     "metadata": {},
     "output_type": "execute_result"
    }
   ],
   "source": [
    "bigframe.head()"
   ]
  },
  {
   "cell_type": "code",
   "execution_count": null,
   "metadata": {
    "collapsed": true
   },
   "outputs": [],
   "source": []
  }
 ],
 "metadata": {
  "kernelspec": {
   "display_name": "Python 2",
   "language": "python",
   "name": "python2"
  },
  "language_info": {
   "codemirror_mode": {
    "name": "ipython",
    "version": 2
   },
   "file_extension": ".py",
   "mimetype": "text/x-python",
   "name": "python",
   "nbconvert_exporter": "python",
   "pygments_lexer": "ipython2",
   "version": "2.7.10"
  }
 },
 "nbformat": 4,
 "nbformat_minor": 0
}
