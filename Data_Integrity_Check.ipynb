{
 "cells": [
  {
   "cell_type": "code",
   "execution_count": 42,
   "metadata": {
    "collapsed": false
   },
   "outputs": [
    {
     "data": {
      "text/plain": [
       "u'/Users/AmyCarVi/Google Drive/CarviCSV'"
      ]
     },
     "execution_count": 42,
     "metadata": {},
     "output_type": "execute_result"
    }
   ],
   "source": [
    "pwd"
   ]
  },
  {
   "cell_type": "code",
   "execution_count": 41,
   "metadata": {
    "collapsed": false
   },
   "outputs": [
    {
     "name": "stdout",
     "output_type": "stream",
     "text": [
      "/Users/AmyCarVi/Google Drive/CarviCSV\n"
     ]
    }
   ],
   "source": [
    "cd /Users/AmyCarVi/Google Drive/CarviCSV"
   ]
  },
  {
   "cell_type": "code",
   "execution_count": 132,
   "metadata": {
    "collapsed": false
   },
   "outputs": [
    {
     "name": "stdout",
     "output_type": "stream",
     "text": [
      "Icon?           departures.csv  miles.csv       periods.csv\r\n",
      "collisions.csv  fronts.csv      motions.csv     suddens.csv\r\n"
     ]
    }
   ],
   "source": [
    "ls"
   ]
  },
  {
   "cell_type": "code",
   "execution_count": 61,
   "metadata": {
    "collapsed": false
   },
   "outputs": [],
   "source": [
    "import pandas as pd\n",
    "import numpy as np\n",
    "import matplotlib.pyplot as plt\n",
    "%matplotlib inline"
   ]
  },
  {
   "cell_type": "markdown",
   "metadata": {},
   "source": [
    "# periods"
   ]
  },
  {
   "cell_type": "code",
   "execution_count": 85,
   "metadata": {
    "collapsed": false
   },
   "outputs": [
    {
     "name": "stderr",
     "output_type": "stream",
     "text": [
      "/Users/AmyCarVi/anaconda/lib/python2.7/site-packages/ipykernel/__main__.py:2: FutureWarning: sort(columns=....) is deprecated, use sort_values(by=.....)\n",
      "  from ipykernel import kernelapp as app\n"
     ]
    }
   ],
   "source": [
    "periods=pd.read_csv('periods.csv')\n",
    "periods=periods.sort(\"period_id\")"
   ]
  },
  {
   "cell_type": "code",
   "execution_count": 86,
   "metadata": {
    "collapsed": false
   },
   "outputs": [
    {
     "name": "stdout",
     "output_type": "stream",
     "text": [
      "      period_id camera_id   mileage  collision_mileage open\n",
      "1491         14   carvi07  0.000000           0.000000    N\n",
      "1298         39   carvi07  0.734434           0.181271    N\n",
      "      period_id camera_id   mileage  collision_mileage open\n",
      "1075     129021   carvi03  2.636657           0.020784    N\n",
      "1076     129022   carvi03  2.636657           0.020784    N\n"
     ]
    }
   ],
   "source": [
    "print periods.head(2)\n",
    "print periods.tail(2)"
   ]
  },
  {
   "cell_type": "code",
   "execution_count": 46,
   "metadata": {
    "collapsed": true
   },
   "outputs": [],
   "source": [
    "# periods.loc[len(periods)]=[128950, \"carvi03\", 0.5, 0.3, \"N\"]"
   ]
  },
  {
   "cell_type": "code",
   "execution_count": 87,
   "metadata": {
    "collapsed": false
   },
   "outputs": [
    {
     "data": {
      "text/html": [
       "<div>\n",
       "<table border=\"1\" class=\"dataframe\">\n",
       "  <thead>\n",
       "    <tr style=\"text-align: right;\">\n",
       "      <th></th>\n",
       "      <th>period_id</th>\n",
       "      <th>camera_id</th>\n",
       "      <th>mileage</th>\n",
       "      <th>collision_mileage</th>\n",
       "      <th>open</th>\n",
       "    </tr>\n",
       "  </thead>\n",
       "  <tbody>\n",
       "  </tbody>\n",
       "</table>\n",
       "</div>"
      ],
      "text/plain": [
       "Empty DataFrame\n",
       "Columns: [period_id, camera_id, mileage, collision_mileage, open]\n",
       "Index: []"
      ]
     },
     "execution_count": 87,
     "metadata": {},
     "output_type": "execute_result"
    }
   ],
   "source": [
    "periods[periods.duplicated(subset=\"period_id\",keep=False)]#return rows where there are duplicate period_id"
   ]
  },
  {
   "cell_type": "code",
   "execution_count": 88,
   "metadata": {
    "collapsed": false
   },
   "outputs": [],
   "source": [
    "# len(periods[\"period_id\"]) == len(periods[\"period_id\"].unique()) #unique period_id should be equal to len of rows"
   ]
  },
  {
   "cell_type": "code",
   "execution_count": 89,
   "metadata": {
    "collapsed": false
   },
   "outputs": [
    {
     "data": {
      "text/html": [
       "<div>\n",
       "<table border=\"1\" class=\"dataframe\">\n",
       "  <thead>\n",
       "    <tr style=\"text-align: right;\">\n",
       "      <th></th>\n",
       "      <th>period_id</th>\n",
       "      <th>camera_id</th>\n",
       "      <th>mileage</th>\n",
       "      <th>collision_mileage</th>\n",
       "      <th>open</th>\n",
       "    </tr>\n",
       "  </thead>\n",
       "  <tbody>\n",
       "    <tr>\n",
       "      <th>1487</th>\n",
       "      <td>3209</td>\n",
       "      <td>ARTIK10</td>\n",
       "      <td>0.0</td>\n",
       "      <td>0.042955</td>\n",
       "      <td>N</td>\n",
       "    </tr>\n",
       "    <tr>\n",
       "      <th>1490</th>\n",
       "      <td>3223</td>\n",
       "      <td>ARTIK10</td>\n",
       "      <td>0.0</td>\n",
       "      <td>0.003402</td>\n",
       "      <td>N</td>\n",
       "    </tr>\n",
       "    <tr>\n",
       "      <th>1488</th>\n",
       "      <td>3224</td>\n",
       "      <td>ARTIK10</td>\n",
       "      <td>0.0</td>\n",
       "      <td>0.023092</td>\n",
       "      <td>N</td>\n",
       "    </tr>\n",
       "    <tr>\n",
       "      <th>1489</th>\n",
       "      <td>3244</td>\n",
       "      <td>ARTIK10</td>\n",
       "      <td>0.0</td>\n",
       "      <td>0.009153</td>\n",
       "      <td>N</td>\n",
       "    </tr>\n",
       "  </tbody>\n",
       "</table>\n",
       "</div>"
      ],
      "text/plain": [
       "      period_id camera_id  mileage  collision_mileage open\n",
       "1487       3209   ARTIK10      0.0           0.042955    N\n",
       "1490       3223   ARTIK10      0.0           0.003402    N\n",
       "1488       3224   ARTIK10      0.0           0.023092    N\n",
       "1489       3244   ARTIK10      0.0           0.009153    N"
      ]
     },
     "execution_count": 89,
     "metadata": {},
     "output_type": "execute_result"
    }
   ],
   "source": [
    "periods[~(periods[\"mileage\"] >= periods[\"collision_mileage\"])] #check if mileage >= collision_milleage, return rows where false"
   ]
  },
  {
   "cell_type": "markdown",
   "metadata": {},
   "source": [
    "# miles + periods join, will come back to it "
   ]
  },
  {
   "cell_type": "markdown",
   "metadata": {},
   "source": [
    "miles= pd.read_csv('/Users/AmyCarVi/Google Drive/miles.csv')\n",
    "miles=miles.sort_values('period_id')"
   ]
  },
  {
   "cell_type": "markdown",
   "metadata": {},
   "source": [
    "print miles.head()\n",
    "print miles.tail()"
   ]
  },
  {
   "cell_type": "markdown",
   "metadata": {},
   "source": [
    "miles_periods = pd.merge(periods, miles, how='outer', on='period_id')\n",
    "miles_periods.head()"
   ]
  },
  {
   "cell_type": "markdown",
   "metadata": {},
   "source": [
    "miles_periods_inner = pd.merge(periods, miles, how='inner', on='period_id')\n",
    "print len(miles_periods_inner)\n",
    "miles_periods_outer = pd.merge(periods, miles, how='outer', on='period_id')\n",
    "print len(miles_periods_outer)"
   ]
  },
  {
   "cell_type": "markdown",
   "metadata": {},
   "source": [
    "print len(miles)\n",
    "print len(periods)"
   ]
  },
  {
   "cell_type": "markdown",
   "metadata": {},
   "source": [
    "print len(periods['period_id'].unique())\n",
    "print len(miles['period_id'].unique())"
   ]
  },
  {
   "cell_type": "code",
   "execution_count": 65,
   "metadata": {
    "collapsed": false
   },
   "outputs": [
    {
     "data": {
      "text/plain": [
       "208"
      ]
     },
     "execution_count": 65,
     "metadata": {},
     "output_type": "execute_result"
    }
   ],
   "source": [
    "len(periods[periods['collision_mileage']==0])"
   ]
  },
  {
   "cell_type": "code",
   "execution_count": 67,
   "metadata": {
    "collapsed": false
   },
   "outputs": [
    {
     "data": {
      "text/plain": [
       "184"
      ]
     },
     "execution_count": 67,
     "metadata": {},
     "output_type": "execute_result"
    }
   ],
   "source": [
    "len(miles[miles['collision_mileage']==0])"
   ]
  },
  {
   "cell_type": "markdown",
   "metadata": {},
   "source": [
    "# motions"
   ]
  },
  {
   "cell_type": "code",
   "execution_count": 92,
   "metadata": {
    "collapsed": true
   },
   "outputs": [],
   "source": [
    "motions=pd.read_csv(\"motions.csv\")\n",
    "motions=motions.sort_values('motion_id')"
   ]
  },
  {
   "cell_type": "code",
   "execution_count": 106,
   "metadata": {
    "collapsed": false
   },
   "outputs": [
    {
     "data": {
      "text/plain": [
       "(66027, 8)"
      ]
     },
     "execution_count": 106,
     "metadata": {},
     "output_type": "execute_result"
    }
   ],
   "source": [
    "motions.shape"
   ]
  },
  {
   "cell_type": "code",
   "execution_count": 113,
   "metadata": {
    "collapsed": false
   },
   "outputs": [
    {
     "data": {
      "text/html": [
       "<div>\n",
       "<table border=\"1\" class=\"dataframe\">\n",
       "  <thead>\n",
       "    <tr style=\"text-align: right;\">\n",
       "      <th></th>\n",
       "      <th>motion_id</th>\n",
       "      <th>period_id</th>\n",
       "      <th>time_stamp</th>\n",
       "      <th>speed</th>\n",
       "      <th>bias</th>\n",
       "      <th>front_speed</th>\n",
       "      <th>front_distance</th>\n",
       "      <th>event</th>\n",
       "    </tr>\n",
       "  </thead>\n",
       "  <tbody>\n",
       "    <tr>\n",
       "      <th>9973</th>\n",
       "      <td>78005</td>\n",
       "      <td>129022</td>\n",
       "      <td>2016-05-25 11:47:10</td>\n",
       "      <td>0</td>\n",
       "      <td>0</td>\n",
       "      <td>9</td>\n",
       "      <td>40</td>\n",
       "      <td>4</td>\n",
       "    </tr>\n",
       "    <tr>\n",
       "      <th>9972</th>\n",
       "      <td>78006</td>\n",
       "      <td>129022</td>\n",
       "      <td>2016-05-25 11:47:12</td>\n",
       "      <td>0</td>\n",
       "      <td>0</td>\n",
       "      <td>9</td>\n",
       "      <td>40</td>\n",
       "      <td>4</td>\n",
       "    </tr>\n",
       "    <tr>\n",
       "      <th>9971</th>\n",
       "      <td>78007</td>\n",
       "      <td>129022</td>\n",
       "      <td>2016-05-25 11:47:13</td>\n",
       "      <td>0</td>\n",
       "      <td>0</td>\n",
       "      <td>9</td>\n",
       "      <td>40</td>\n",
       "      <td>4</td>\n",
       "    </tr>\n",
       "    <tr>\n",
       "      <th>9970</th>\n",
       "      <td>78008</td>\n",
       "      <td>129022</td>\n",
       "      <td>2016-05-25 11:47:15</td>\n",
       "      <td>0</td>\n",
       "      <td>0</td>\n",
       "      <td>9</td>\n",
       "      <td>40</td>\n",
       "      <td>4</td>\n",
       "    </tr>\n",
       "    <tr>\n",
       "      <th>9969</th>\n",
       "      <td>78009</td>\n",
       "      <td>129022</td>\n",
       "      <td>2016-05-25 11:47:17</td>\n",
       "      <td>0</td>\n",
       "      <td>0</td>\n",
       "      <td>9</td>\n",
       "      <td>40</td>\n",
       "      <td>4</td>\n",
       "    </tr>\n",
       "  </tbody>\n",
       "</table>\n",
       "</div>"
      ],
      "text/plain": [
       "      motion_id  period_id           time_stamp  speed  bias  front_speed  \\\n",
       "9973      78005     129022  2016-05-25 11:47:10      0     0            9   \n",
       "9972      78006     129022  2016-05-25 11:47:12      0     0            9   \n",
       "9971      78007     129022  2016-05-25 11:47:13      0     0            9   \n",
       "9970      78008     129022  2016-05-25 11:47:15      0     0            9   \n",
       "9969      78009     129022  2016-05-25 11:47:17      0     0            9   \n",
       "\n",
       "      front_distance  event  \n",
       "9973              40      4  \n",
       "9972              40      4  \n",
       "9971              40      4  \n",
       "9970              40      4  \n",
       "9969              40      4  "
      ]
     },
     "execution_count": 113,
     "metadata": {},
     "output_type": "execute_result"
    }
   ],
   "source": [
    "#motions.head()\n",
    "motions.tail()"
   ]
  },
  {
   "cell_type": "code",
   "execution_count": 95,
   "metadata": {
    "collapsed": false
   },
   "outputs": [
    {
     "data": {
      "text/plain": [
       "1589"
      ]
     },
     "execution_count": 95,
     "metadata": {},
     "output_type": "execute_result"
    }
   ],
   "source": [
    "len(motions['period_id'].unique())"
   ]
  },
  {
   "cell_type": "code",
   "execution_count": 125,
   "metadata": {
    "collapsed": false,
    "scrolled": true
   },
   "outputs": [
    {
     "data": {
      "text/html": [
       "<div>\n",
       "<table border=\"1\" class=\"dataframe\">\n",
       "  <thead>\n",
       "    <tr style=\"text-align: right;\">\n",
       "      <th></th>\n",
       "      <th>motion_id</th>\n",
       "      <th>period_id</th>\n",
       "      <th>time_stamp</th>\n",
       "      <th>speed</th>\n",
       "      <th>bias</th>\n",
       "      <th>front_speed</th>\n",
       "      <th>front_distance</th>\n",
       "      <th>event</th>\n",
       "    </tr>\n",
       "  </thead>\n",
       "  <tbody>\n",
       "  </tbody>\n",
       "</table>\n",
       "</div>"
      ],
      "text/plain": [
       "Empty DataFrame\n",
       "Columns: [motion_id, period_id, time_stamp, speed, bias, front_speed, front_distance, event]\n",
       "Index: []"
      ]
     },
     "execution_count": 125,
     "metadata": {},
     "output_type": "execute_result"
    }
   ],
   "source": [
    "motions[~(motions['bias'].isin(range(-5,6,1)))] #check for bias = -5 to 5"
   ]
  },
  {
   "cell_type": "code",
   "execution_count": 129,
   "metadata": {
    "collapsed": false
   },
   "outputs": [
    {
     "data": {
      "text/html": [
       "<div>\n",
       "<table border=\"1\" class=\"dataframe\">\n",
       "  <thead>\n",
       "    <tr style=\"text-align: right;\">\n",
       "      <th></th>\n",
       "      <th>motion_id</th>\n",
       "      <th>period_id</th>\n",
       "      <th>time_stamp</th>\n",
       "      <th>speed</th>\n",
       "      <th>bias</th>\n",
       "      <th>front_speed</th>\n",
       "      <th>front_distance</th>\n",
       "      <th>event</th>\n",
       "    </tr>\n",
       "  </thead>\n",
       "  <tbody>\n",
       "  </tbody>\n",
       "</table>\n",
       "</div>"
      ],
      "text/plain": [
       "Empty DataFrame\n",
       "Columns: [motion_id, period_id, time_stamp, speed, bias, front_speed, front_distance, event]\n",
       "Index: []"
      ]
     },
     "execution_count": 129,
     "metadata": {},
     "output_type": "execute_result"
    }
   ],
   "source": [
    "motions[~(motions['event'].isin([1,2,3,4,5,6,7,100,900]))] # check for event = [1,2,3,4,5,6,7,100,900]"
   ]
  },
  {
   "cell_type": "markdown",
   "metadata": {
    "collapsed": true
   },
   "source": [
    "# periods and motions merge"
   ]
  },
  {
   "cell_type": "code",
   "execution_count": 98,
   "metadata": {
    "collapsed": false
   },
   "outputs": [],
   "source": [
    "periods_motions=pd.merge(periods, motions, how='inner', on='period_id')"
   ]
  },
  {
   "cell_type": "code",
   "execution_count": 100,
   "metadata": {
    "collapsed": false
   },
   "outputs": [
    {
     "data": {
      "text/plain": [
       "1589"
      ]
     },
     "execution_count": 100,
     "metadata": {},
     "output_type": "execute_result"
    }
   ],
   "source": [
    "len(periods_motions['period_id'].unique())"
   ]
  },
  {
   "cell_type": "code",
   "execution_count": 105,
   "metadata": {
    "collapsed": false,
    "scrolled": true
   },
   "outputs": [
    {
     "data": {
      "text/html": [
       "<div>\n",
       "<table border=\"1\" class=\"dataframe\">\n",
       "  <thead>\n",
       "    <tr style=\"text-align: right;\">\n",
       "      <th></th>\n",
       "      <th>period_id</th>\n",
       "      <th>camera_id</th>\n",
       "      <th>mileage</th>\n",
       "      <th>collision_mileage</th>\n",
       "      <th>open</th>\n",
       "    </tr>\n",
       "  </thead>\n",
       "  <tbody>\n",
       "    <tr>\n",
       "      <th>1514</th>\n",
       "      <td>838</td>\n",
       "      <td>carvi9658</td>\n",
       "      <td>0.0</td>\n",
       "      <td>0.0</td>\n",
       "      <td>N</td>\n",
       "    </tr>\n",
       "    <tr>\n",
       "      <th>1515</th>\n",
       "      <td>839</td>\n",
       "      <td>carvi9658</td>\n",
       "      <td>0.0</td>\n",
       "      <td>0.0</td>\n",
       "      <td>N</td>\n",
       "    </tr>\n",
       "    <tr>\n",
       "      <th>1516</th>\n",
       "      <td>870</td>\n",
       "      <td>carvi9658</td>\n",
       "      <td>0.0</td>\n",
       "      <td>0.0</td>\n",
       "      <td>N</td>\n",
       "    </tr>\n",
       "    <tr>\n",
       "      <th>1517</th>\n",
       "      <td>871</td>\n",
       "      <td>carvi9658</td>\n",
       "      <td>0.0</td>\n",
       "      <td>0.0</td>\n",
       "      <td>N</td>\n",
       "    </tr>\n",
       "    <tr>\n",
       "      <th>1518</th>\n",
       "      <td>872</td>\n",
       "      <td>carvi9658</td>\n",
       "      <td>0.0</td>\n",
       "      <td>0.0</td>\n",
       "      <td>N</td>\n",
       "    </tr>\n",
       "    <tr>\n",
       "      <th>1519</th>\n",
       "      <td>873</td>\n",
       "      <td>carvi9658</td>\n",
       "      <td>0.0</td>\n",
       "      <td>0.0</td>\n",
       "      <td>N</td>\n",
       "    </tr>\n",
       "    <tr>\n",
       "      <th>1520</th>\n",
       "      <td>874</td>\n",
       "      <td>carvi9658</td>\n",
       "      <td>0.0</td>\n",
       "      <td>0.0</td>\n",
       "      <td>N</td>\n",
       "    </tr>\n",
       "    <tr>\n",
       "      <th>1522</th>\n",
       "      <td>912</td>\n",
       "      <td>carvi9658</td>\n",
       "      <td>0.0</td>\n",
       "      <td>0.0</td>\n",
       "      <td>N</td>\n",
       "    </tr>\n",
       "    <tr>\n",
       "      <th>1523</th>\n",
       "      <td>913</td>\n",
       "      <td>carvi9658</td>\n",
       "      <td>0.0</td>\n",
       "      <td>0.0</td>\n",
       "      <td>N</td>\n",
       "    </tr>\n",
       "    <tr>\n",
       "      <th>1524</th>\n",
       "      <td>914</td>\n",
       "      <td>carvi9658</td>\n",
       "      <td>0.0</td>\n",
       "      <td>0.0</td>\n",
       "      <td>N</td>\n",
       "    </tr>\n",
       "    <tr>\n",
       "      <th>1525</th>\n",
       "      <td>925</td>\n",
       "      <td>carvi9658</td>\n",
       "      <td>0.0</td>\n",
       "      <td>0.0</td>\n",
       "      <td>N</td>\n",
       "    </tr>\n",
       "    <tr>\n",
       "      <th>1526</th>\n",
       "      <td>926</td>\n",
       "      <td>carvi9658</td>\n",
       "      <td>0.0</td>\n",
       "      <td>0.0</td>\n",
       "      <td>N</td>\n",
       "    </tr>\n",
       "    <tr>\n",
       "      <th>1527</th>\n",
       "      <td>927</td>\n",
       "      <td>carvi9658</td>\n",
       "      <td>0.0</td>\n",
       "      <td>0.0</td>\n",
       "      <td>N</td>\n",
       "    </tr>\n",
       "    <tr>\n",
       "      <th>1528</th>\n",
       "      <td>928</td>\n",
       "      <td>carvi9658</td>\n",
       "      <td>0.0</td>\n",
       "      <td>0.0</td>\n",
       "      <td>N</td>\n",
       "    </tr>\n",
       "    <tr>\n",
       "      <th>1529</th>\n",
       "      <td>929</td>\n",
       "      <td>carvi9658</td>\n",
       "      <td>0.0</td>\n",
       "      <td>0.0</td>\n",
       "      <td>N</td>\n",
       "    </tr>\n",
       "  </tbody>\n",
       "</table>\n",
       "</div>"
      ],
      "text/plain": [
       "      period_id  camera_id  mileage  collision_mileage open\n",
       "1514        838  carvi9658      0.0                0.0    N\n",
       "1515        839  carvi9658      0.0                0.0    N\n",
       "1516        870  carvi9658      0.0                0.0    N\n",
       "1517        871  carvi9658      0.0                0.0    N\n",
       "1518        872  carvi9658      0.0                0.0    N\n",
       "1519        873  carvi9658      0.0                0.0    N\n",
       "1520        874  carvi9658      0.0                0.0    N\n",
       "1522        912  carvi9658      0.0                0.0    N\n",
       "1523        913  carvi9658      0.0                0.0    N\n",
       "1524        914  carvi9658      0.0                0.0    N\n",
       "1525        925  carvi9658      0.0                0.0    N\n",
       "1526        926  carvi9658      0.0                0.0    N\n",
       "1527        927  carvi9658      0.0                0.0    N\n",
       "1528        928  carvi9658      0.0                0.0    N\n",
       "1529        929  carvi9658      0.0                0.0    N"
      ]
     },
     "execution_count": 105,
     "metadata": {},
     "output_type": "execute_result"
    }
   ],
   "source": [
    "periods[~periods['period_id'].isin(motions['period_id'])]#check if all periods.period_id is in motions.period_id"
   ]
  },
  {
   "cell_type": "code",
   "execution_count": 130,
   "metadata": {
    "collapsed": false
   },
   "outputs": [
    {
     "data": {
      "text/html": [
       "<div>\n",
       "<table border=\"1\" class=\"dataframe\">\n",
       "  <thead>\n",
       "    <tr style=\"text-align: right;\">\n",
       "      <th></th>\n",
       "      <th>motion_id</th>\n",
       "      <th>period_id</th>\n",
       "      <th>time_stamp</th>\n",
       "      <th>speed</th>\n",
       "      <th>bias</th>\n",
       "      <th>front_speed</th>\n",
       "      <th>front_distance</th>\n",
       "      <th>event</th>\n",
       "    </tr>\n",
       "  </thead>\n",
       "  <tbody>\n",
       "  </tbody>\n",
       "</table>\n",
       "</div>"
      ],
      "text/plain": [
       "Empty DataFrame\n",
       "Columns: [motion_id, period_id, time_stamp, speed, bias, front_speed, front_distance, event]\n",
       "Index: []"
      ]
     },
     "execution_count": 130,
     "metadata": {},
     "output_type": "execute_result"
    }
   ],
   "source": [
    "motions[~motions['period_id'].isin(periods['period_id'])]#check if all motions.period_id is in periods.period_id"
   ]
  },
  {
   "cell_type": "markdown",
   "metadata": {},
   "source": [
    "# motions and collsions merge"
   ]
  },
  {
   "cell_type": "code",
   "execution_count": 133,
   "metadata": {
    "collapsed": false
   },
   "outputs": [],
   "source": [
    "collisions=pd.read_csv('collisions.csv')"
   ]
  },
  {
   "cell_type": "code",
   "execution_count": 136,
   "metadata": {
    "collapsed": false
   },
   "outputs": [
    {
     "name": "stdout",
     "output_type": "stream",
     "text": [
      "   collision_id  motion_id  reaction  reduction_speed\n",
      "0          1457      18319       NaN                0\n",
      "1          1458      18320       NaN                0\n",
      "2          1461      18327       NaN                0\n",
      "3          1462      18328       NaN                0\n",
      "4          1463      18332       NaN                0\n",
      "      collision_id  motion_id  reaction  reduction_speed\n",
      "6590          7554      77279       3.0                0\n",
      "6591          7555      77292       3.0                0\n",
      "6592          7565      77590       3.0                0\n",
      "6593          7568      77708       3.0                0\n",
      "6594          7571      77883       3.0                0\n"
     ]
    }
   ],
   "source": [
    "print collisions.head()\n",
    "print collisions.tail()"
   ]
  },
  {
   "cell_type": "code",
   "execution_count": null,
   "metadata": {
    "collapsed": true
   },
   "outputs": [],
   "source": []
  }
 ],
 "metadata": {
  "kernelspec": {
   "display_name": "Python 2",
   "language": "python",
   "name": "python2"
  },
  "language_info": {
   "codemirror_mode": {
    "name": "ipython",
    "version": 2
   },
   "file_extension": ".py",
   "mimetype": "text/x-python",
   "name": "python",
   "nbconvert_exporter": "python",
   "pygments_lexer": "ipython2",
   "version": "2.7.11"
  }
 },
 "nbformat": 4,
 "nbformat_minor": 0
}
