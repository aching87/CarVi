{
 "cells": [
  {
   "cell_type": "code",
   "execution_count": 1,
   "metadata": {
    "collapsed": false
   },
   "outputs": [
    {
     "data": {
      "text/plain": [
       "u'/Users/AmyCarVi/Google Drive/ipynb'"
      ]
     },
     "execution_count": 1,
     "metadata": {},
     "output_type": "execute_result"
    }
   ],
   "source": [
    "pwd"
   ]
  },
  {
   "cell_type": "code",
   "execution_count": 4,
   "metadata": {
    "collapsed": false
   },
   "outputs": [
    {
     "name": "stdout",
     "output_type": "stream",
     "text": [
      "/Users/AmyCarVi/Google Drive/CarviCSV\n"
     ]
    }
   ],
   "source": [
    "cd /Users/AmyCarVi/Google Drive/CarviCSV"
   ]
  },
  {
   "cell_type": "code",
   "execution_count": 5,
   "metadata": {
    "collapsed": false
   },
   "outputs": [
    {
     "name": "stdout",
     "output_type": "stream",
     "text": [
      "Icon?           departures.csv  miles.csv       periods.csv\r\n",
      "collisions.csv  fronts.csv      motions.csv     suddens.csv\r\n"
     ]
    }
   ],
   "source": [
    "ls"
   ]
  },
  {
   "cell_type": "code",
   "execution_count": 6,
   "metadata": {
    "collapsed": true
   },
   "outputs": [],
   "source": [
    "import pandas as pd\n",
    "import numpy as np\n",
    "import matplotlib.pyplot as plt\n",
    "%matplotlib inline"
   ]
  },
  {
   "cell_type": "code",
   "execution_count": 8,
   "metadata": {
    "collapsed": true
   },
   "outputs": [],
   "source": [
    "periods=pd.read_csv('periods.csv').sort_values(\"period_id\")\n",
    "miles= pd.read_csv('miles.csv').sort_values(['period_id','mile_id'])\n",
    "motions=pd.read_csv(\"motions.csv\").sort_values('motion_id')\n",
    "collisions=pd.read_csv('collisions.csv').sort_values(['motion_id','collision_id'])\n",
    "departures=pd.read_csv('departures.csv').sort_values(['motion_id', 'departure_id'])\n",
    "fronts=pd.read_csv('fronts.csv').sort_values(['motion_id','front_id'])\n",
    "suddens=pd.read_csv('suddens.csv').sort_values(['motion_id', 'sudden_id'])"
   ]
  },
  {
   "cell_type": "markdown",
   "metadata": {},
   "source": [
    "# periods"
   ]
  },
  {
   "cell_type": "code",
   "execution_count": 9,
   "metadata": {
    "collapsed": false
   },
   "outputs": [
    {
     "data": {
      "text/html": [
       "<div>\n",
       "<table border=\"1\" class=\"dataframe\">\n",
       "  <thead>\n",
       "    <tr style=\"text-align: right;\">\n",
       "      <th></th>\n",
       "      <th>period_id</th>\n",
       "      <th>camera_id</th>\n",
       "      <th>mileage</th>\n",
       "      <th>collision_mileage</th>\n",
       "      <th>open</th>\n",
       "    </tr>\n",
       "  </thead>\n",
       "  <tbody>\n",
       "    <tr>\n",
       "      <th>count</th>\n",
       "      <td>1604</td>\n",
       "      <td>1604</td>\n",
       "      <td>1604.000000</td>\n",
       "      <td>1604.000000</td>\n",
       "      <td>1604</td>\n",
       "    </tr>\n",
       "    <tr>\n",
       "      <th>unique</th>\n",
       "      <td>1604</td>\n",
       "      <td>10</td>\n",
       "      <td>NaN</td>\n",
       "      <td>NaN</td>\n",
       "      <td>1</td>\n",
       "    </tr>\n",
       "    <tr>\n",
       "      <th>top</th>\n",
       "      <td>3198</td>\n",
       "      <td>ARTIK10</td>\n",
       "      <td>NaN</td>\n",
       "      <td>NaN</td>\n",
       "      <td>N</td>\n",
       "    </tr>\n",
       "    <tr>\n",
       "      <th>freq</th>\n",
       "      <td>1</td>\n",
       "      <td>949</td>\n",
       "      <td>NaN</td>\n",
       "      <td>NaN</td>\n",
       "      <td>1604</td>\n",
       "    </tr>\n",
       "    <tr>\n",
       "      <th>mean</th>\n",
       "      <td>NaN</td>\n",
       "      <td>NaN</td>\n",
       "      <td>34.650444</td>\n",
       "      <td>19.158543</td>\n",
       "      <td>NaN</td>\n",
       "    </tr>\n",
       "    <tr>\n",
       "      <th>std</th>\n",
       "      <td>NaN</td>\n",
       "      <td>NaN</td>\n",
       "      <td>61.016410</td>\n",
       "      <td>31.153354</td>\n",
       "      <td>NaN</td>\n",
       "    </tr>\n",
       "    <tr>\n",
       "      <th>min</th>\n",
       "      <td>NaN</td>\n",
       "      <td>NaN</td>\n",
       "      <td>0.000000</td>\n",
       "      <td>0.000000</td>\n",
       "      <td>NaN</td>\n",
       "    </tr>\n",
       "    <tr>\n",
       "      <th>25%</th>\n",
       "      <td>NaN</td>\n",
       "      <td>NaN</td>\n",
       "      <td>1.336018</td>\n",
       "      <td>0.213872</td>\n",
       "      <td>NaN</td>\n",
       "    </tr>\n",
       "    <tr>\n",
       "      <th>50%</th>\n",
       "      <td>NaN</td>\n",
       "      <td>NaN</td>\n",
       "      <td>9.535203</td>\n",
       "      <td>3.935938</td>\n",
       "      <td>NaN</td>\n",
       "    </tr>\n",
       "    <tr>\n",
       "      <th>75%</th>\n",
       "      <td>NaN</td>\n",
       "      <td>NaN</td>\n",
       "      <td>50.760802</td>\n",
       "      <td>29.693268</td>\n",
       "      <td>NaN</td>\n",
       "    </tr>\n",
       "    <tr>\n",
       "      <th>max</th>\n",
       "      <td>NaN</td>\n",
       "      <td>NaN</td>\n",
       "      <td>949.976816</td>\n",
       "      <td>372.957374</td>\n",
       "      <td>NaN</td>\n",
       "    </tr>\n",
       "  </tbody>\n",
       "</table>\n",
       "</div>"
      ],
      "text/plain": [
       "       period_id camera_id      mileage  collision_mileage  open\n",
       "count       1604      1604  1604.000000        1604.000000  1604\n",
       "unique      1604        10          NaN                NaN     1\n",
       "top         3198   ARTIK10          NaN                NaN     N\n",
       "freq           1       949          NaN                NaN  1604\n",
       "mean         NaN       NaN    34.650444          19.158543   NaN\n",
       "std          NaN       NaN    61.016410          31.153354   NaN\n",
       "min          NaN       NaN     0.000000           0.000000   NaN\n",
       "25%          NaN       NaN     1.336018           0.213872   NaN\n",
       "50%          NaN       NaN     9.535203           3.935938   NaN\n",
       "75%          NaN       NaN    50.760802          29.693268   NaN\n",
       "max          NaN       NaN   949.976816         372.957374   NaN"
      ]
     },
     "execution_count": 9,
     "metadata": {},
     "output_type": "execute_result"
    }
   ],
   "source": [
    "periods['period_id']=periods['period_id'].apply(str)\n",
    "periods.describe(include='all')"
   ]
  },
  {
   "cell_type": "code",
   "execution_count": 10,
   "metadata": {
    "collapsed": false
   },
   "outputs": [
    {
     "data": {
      "text/plain": [
       "{'boxes': [<matplotlib.lines.Line2D at 0x103d33110>],\n",
       " 'caps': [<matplotlib.lines.Line2D at 0x103d33f50>,\n",
       "  <matplotlib.lines.Line2D at 0x103d485d0>],\n",
       " 'fliers': [<matplotlib.lines.Line2D at 0x103d53290>],\n",
       " 'means': [],\n",
       " 'medians': [<matplotlib.lines.Line2D at 0x103d48c10>],\n",
       " 'whiskers': [<matplotlib.lines.Line2D at 0x103d33250>,\n",
       "  <matplotlib.lines.Line2D at 0x103d33910>]}"
      ]
     },
     "execution_count": 10,
     "metadata": {},
     "output_type": "execute_result"
    },
    {
     "data": {
      "image/png": "[encoded data removed]",
      "text/plain": [
       "<matplotlib.figure.Figure at 0x111f4c750>"
      ]
     },
     "metadata": {},
     "output_type": "display_data"
    }
   ],
   "source": [
    "#plt.hist(periods['mileage'])\n",
    "plt.boxplot(periods['mileage'])"
   ]
  },
  {
   "cell_type": "code",
   "execution_count": 14,
   "metadata": {
    "collapsed": false
   },
   "outputs": [
    {
     "data": {
      "text/plain": [
       "{'boxes': [<matplotlib.lines.Line2D at 0x1147fe810>],\n",
       " 'caps': [<matplotlib.lines.Line2D at 0x11480e690>,\n",
       "  <matplotlib.lines.Line2D at 0x11480ecd0>],\n",
       " 'fliers': [<matplotlib.lines.Line2D at 0x114950990>],\n",
       " 'means': [],\n",
       " 'medians': [<matplotlib.lines.Line2D at 0x114950350>],\n",
       " 'whiskers': [<matplotlib.lines.Line2D at 0x1147fe950>,\n",
       "  <matplotlib.lines.Line2D at 0x11480e050>]}"
      ]
     },
     "execution_count": 14,
     "metadata": {},
     "output_type": "execute_result"
    },
    {
     "data": {
      "image/png": "[encoded data removed]",
      "text/plain": [
       "<matplotlib.figure.Figure at 0x114f0d090>"
      ]
     },
     "metadata": {},
     "output_type": "display_data"
    }
   ],
   "source": [
    "#plt.hist(periods['collision_mileage'])\n",
    "plt.boxplot(periods['collision_mileage'])"
   ]
  },
  {
   "cell_type": "markdown",
   "metadata": {},
   "source": [
    "# motions"
   ]
  },
  {
   "cell_type": "code",
   "execution_count": 18,
   "metadata": {
    "collapsed": false
   },
   "outputs": [],
   "source": [
    "motions['motion_id']=motions['motion_id'].apply(str)\n",
    "motions['period_id']=motions['period_id'].apply(str)\n",
    "motions['bias']=motions['bias'].apply(str)\n",
    "motions['event']=motions['event'].apply(str)\n",
    "motions['time_stamp']=pd.to_datetime(motions['time_stamp'])"
   ]
  },
  {
   "cell_type": "code",
   "execution_count": 19,
   "metadata": {
    "collapsed": false
   },
   "outputs": [
    {
     "data": {
      "text/html": [
       "<div>\n",
       "<table border=\"1\" class=\"dataframe\">\n",
       "  <thead>\n",
       "    <tr style=\"text-align: right;\">\n",
       "      <th></th>\n",
       "      <th>motion_id</th>\n",
       "      <th>period_id</th>\n",
       "      <th>time_stamp</th>\n",
       "      <th>speed</th>\n",
       "      <th>bias</th>\n",
       "      <th>front_speed</th>\n",
       "      <th>front_distance</th>\n",
       "      <th>event</th>\n",
       "    </tr>\n",
       "  </thead>\n",
       "  <tbody>\n",
       "    <tr>\n",
       "      <th>count</th>\n",
       "      <td>66027</td>\n",
       "      <td>66027</td>\n",
       "      <td>66027</td>\n",
       "      <td>66027.000000</td>\n",
       "      <td>66027</td>\n",
       "      <td>66027.000000</td>\n",
       "      <td>66027.000000</td>\n",
       "      <td>66027</td>\n",
       "    </tr>\n",
       "    <tr>\n",
       "      <th>unique</th>\n",
       "      <td>66027</td>\n",
       "      <td>1589</td>\n",
       "      <td>58665</td>\n",
       "      <td>NaN</td>\n",
       "      <td>11</td>\n",
       "      <td>NaN</td>\n",
       "      <td>NaN</td>\n",
       "      <td>7</td>\n",
       "    </tr>\n",
       "    <tr>\n",
       "      <th>top</th>\n",
       "      <td>26489</td>\n",
       "      <td>3189</td>\n",
       "      <td>2016-01-07 22:35:43</td>\n",
       "      <td>NaN</td>\n",
       "      <td>0</td>\n",
       "      <td>NaN</td>\n",
       "      <td>NaN</td>\n",
       "      <td>4</td>\n",
       "    </tr>\n",
       "    <tr>\n",
       "      <th>freq</th>\n",
       "      <td>1</td>\n",
       "      <td>7061</td>\n",
       "      <td>204</td>\n",
       "      <td>NaN</td>\n",
       "      <td>29287</td>\n",
       "      <td>NaN</td>\n",
       "      <td>NaN</td>\n",
       "      <td>25895</td>\n",
       "    </tr>\n",
       "    <tr>\n",
       "      <th>first</th>\n",
       "      <td>NaN</td>\n",
       "      <td>NaN</td>\n",
       "      <td>2015-08-18 13:51:38</td>\n",
       "      <td>NaN</td>\n",
       "      <td>NaN</td>\n",
       "      <td>NaN</td>\n",
       "      <td>NaN</td>\n",
       "      <td>NaN</td>\n",
       "    </tr>\n",
       "    <tr>\n",
       "      <th>last</th>\n",
       "      <td>NaN</td>\n",
       "      <td>NaN</td>\n",
       "      <td>2016-05-25 11:47:17</td>\n",
       "      <td>NaN</td>\n",
       "      <td>NaN</td>\n",
       "      <td>NaN</td>\n",
       "      <td>NaN</td>\n",
       "      <td>NaN</td>\n",
       "    </tr>\n",
       "    <tr>\n",
       "      <th>mean</th>\n",
       "      <td>NaN</td>\n",
       "      <td>NaN</td>\n",
       "      <td>NaN</td>\n",
       "      <td>34.995502</td>\n",
       "      <td>NaN</td>\n",
       "      <td>34.495691</td>\n",
       "      <td>51.132234</td>\n",
       "      <td>NaN</td>\n",
       "    </tr>\n",
       "    <tr>\n",
       "      <th>std</th>\n",
       "      <td>NaN</td>\n",
       "      <td>NaN</td>\n",
       "      <td>NaN</td>\n",
       "      <td>5.294967</td>\n",
       "      <td>NaN</td>\n",
       "      <td>7.759444</td>\n",
       "      <td>19.693247</td>\n",
       "      <td>NaN</td>\n",
       "    </tr>\n",
       "    <tr>\n",
       "      <th>min</th>\n",
       "      <td>NaN</td>\n",
       "      <td>NaN</td>\n",
       "      <td>NaN</td>\n",
       "      <td>0.000000</td>\n",
       "      <td>NaN</td>\n",
       "      <td>0.000000</td>\n",
       "      <td>0.000000</td>\n",
       "      <td>NaN</td>\n",
       "    </tr>\n",
       "    <tr>\n",
       "      <th>25%</th>\n",
       "      <td>NaN</td>\n",
       "      <td>NaN</td>\n",
       "      <td>NaN</td>\n",
       "      <td>35.000000</td>\n",
       "      <td>NaN</td>\n",
       "      <td>34.000000</td>\n",
       "      <td>38.000000</td>\n",
       "      <td>NaN</td>\n",
       "    </tr>\n",
       "    <tr>\n",
       "      <th>50%</th>\n",
       "      <td>NaN</td>\n",
       "      <td>NaN</td>\n",
       "      <td>NaN</td>\n",
       "      <td>35.000000</td>\n",
       "      <td>NaN</td>\n",
       "      <td>34.000000</td>\n",
       "      <td>50.000000</td>\n",
       "      <td>NaN</td>\n",
       "    </tr>\n",
       "    <tr>\n",
       "      <th>75%</th>\n",
       "      <td>NaN</td>\n",
       "      <td>NaN</td>\n",
       "      <td>NaN</td>\n",
       "      <td>35.000000</td>\n",
       "      <td>NaN</td>\n",
       "      <td>35.000000</td>\n",
       "      <td>62.000000</td>\n",
       "      <td>NaN</td>\n",
       "    </tr>\n",
       "    <tr>\n",
       "      <th>max</th>\n",
       "      <td>NaN</td>\n",
       "      <td>NaN</td>\n",
       "      <td>NaN</td>\n",
       "      <td>84.000000</td>\n",
       "      <td>NaN</td>\n",
       "      <td>144.000000</td>\n",
       "      <td>168.000000</td>\n",
       "      <td>NaN</td>\n",
       "    </tr>\n",
       "  </tbody>\n",
       "</table>\n",
       "</div>"
      ],
      "text/plain": [
       "       motion_id period_id           time_stamp         speed   bias  \\\n",
       "count      66027     66027                66027  66027.000000  66027   \n",
       "unique     66027      1589                58665           NaN     11   \n",
       "top        26489      3189  2016-01-07 22:35:43           NaN      0   \n",
       "freq           1      7061                  204           NaN  29287   \n",
       "first        NaN       NaN  2015-08-18 13:51:38           NaN    NaN   \n",
       "last         NaN       NaN  2016-05-25 11:47:17           NaN    NaN   \n",
       "mean         NaN       NaN                  NaN     34.995502    NaN   \n",
       "std          NaN       NaN                  NaN      5.294967    NaN   \n",
       "min          NaN       NaN                  NaN      0.000000    NaN   \n",
       "25%          NaN       NaN                  NaN     35.000000    NaN   \n",
       "50%          NaN       NaN                  NaN     35.000000    NaN   \n",
       "75%          NaN       NaN                  NaN     35.000000    NaN   \n",
       "max          NaN       NaN                  NaN     84.000000    NaN   \n",
       "\n",
       "         front_speed  front_distance  event  \n",
       "count   66027.000000    66027.000000  66027  \n",
       "unique           NaN             NaN      7  \n",
       "top              NaN             NaN      4  \n",
       "freq             NaN             NaN  25895  \n",
       "first            NaN             NaN    NaN  \n",
       "last             NaN             NaN    NaN  \n",
       "mean       34.495691       51.132234    NaN  \n",
       "std         7.759444       19.693247    NaN  \n",
       "min         0.000000        0.000000    NaN  \n",
       "25%        34.000000       38.000000    NaN  \n",
       "50%        34.000000       50.000000    NaN  \n",
       "75%        35.000000       62.000000    NaN  \n",
       "max       144.000000      168.000000    NaN  "
      ]
     },
     "execution_count": 19,
     "metadata": {},
     "output_type": "execute_result"
    }
   ],
   "source": [
    "motions.describe(include='all')"
   ]
  },
  {
   "cell_type": "code",
   "execution_count": 17,
   "metadata": {
    "collapsed": false
   },
   "outputs": [
    {
     "data": {
      "text/plain": [
       "{'boxes': [<matplotlib.lines.Line2D at 0x115e784d0>],\n",
       " 'caps': [<matplotlib.lines.Line2D at 0x119085350>,\n",
       "  <matplotlib.lines.Line2D at 0x119085990>],\n",
       " 'fliers': [<matplotlib.lines.Line2D at 0x119093650>],\n",
       " 'means': [],\n",
       " 'medians': [<matplotlib.lines.Line2D at 0x119085fd0>],\n",
       " 'whiskers': [<matplotlib.lines.Line2D at 0x115e78610>,\n",
       "  <matplotlib.lines.Line2D at 0x115e78cd0>]}"
      ]
     },
     "execution_count": 17,
     "metadata": {},
     "output_type": "execute_result"
    },
    {
     "data": {
      "image/png": "[encoded data removed]",
      "text/plain": [
       "<matplotlib.figure.Figure at 0x118ecd190>"
      ]
     },
     "metadata": {},
     "output_type": "display_data"
    }
   ],
   "source": [
    "#plt.hist(motions['speed'])\n",
    "plt.boxplot(motions['speed'])"
   ]
  },
  {
   "cell_type": "code",
   "execution_count": 20,
   "metadata": {
    "collapsed": false
   },
   "outputs": [
    {
     "data": {
      "text/plain": [
       "0     29287\n",
       "5      8728\n",
       "1      5412\n",
       "-5     5393\n",
       "2      5294\n",
       "3      3342\n",
       "-1     2655\n",
       "-2     2223\n",
       "4      1936\n",
       "-3     1034\n",
       "-4      723\n",
       "Name: bias, dtype: int64"
      ]
     },
     "execution_count": 20,
     "metadata": {},
     "output_type": "execute_result"
    }
   ],
   "source": [
    "motions['bias'].value_counts()"
   ]
  },
  {
   "cell_type": "code",
   "execution_count": 21,
   "metadata": {
    "collapsed": false
   },
   "outputs": [
    {
     "data": {
      "text/plain": [
       "{'boxes': [<matplotlib.lines.Line2D at 0x11903ef50>],\n",
       " 'caps': [<matplotlib.lines.Line2D at 0x118e6add0>,\n",
       "  <matplotlib.lines.Line2D at 0x118e76450>],\n",
       " 'fliers': [<matplotlib.lines.Line2D at 0x118e82110>],\n",
       " 'means': [],\n",
       " 'medians': [<matplotlib.lines.Line2D at 0x118e76a90>],\n",
       " 'whiskers': [<matplotlib.lines.Line2D at 0x118e6a0d0>,\n",
       "  <matplotlib.lines.Line2D at 0x118e6a790>]}"
      ]
     },
     "execution_count": 21,
     "metadata": {},
     "output_type": "execute_result"
    },
    {
     "data": {
      "image/png": "[encoded data removed]",
      "text/plain": [
       "<matplotlib.figure.Figure at 0x118da5fd0>"
      ]
     },
     "metadata": {},
     "output_type": "display_data"
    }
   ],
   "source": [
    "#plt.hist(motions['front_speed'])\n",
    "plt.boxplot(motions['front_speed'])"
   ]
  },
  {
   "cell_type": "code",
   "execution_count": 22,
   "metadata": {
    "collapsed": false
   },
   "outputs": [
    {
     "data": {
      "text/plain": [
       "{'boxes': [<matplotlib.lines.Line2D at 0x11954a150>],\n",
       " 'caps': [<matplotlib.lines.Line2D at 0x11954af90>,\n",
       "  <matplotlib.lines.Line2D at 0x119556610>],\n",
       " 'fliers': [<matplotlib.lines.Line2D at 0x1195632d0>],\n",
       " 'means': [],\n",
       " 'medians': [<matplotlib.lines.Line2D at 0x119556c50>],\n",
       " 'whiskers': [<matplotlib.lines.Line2D at 0x11954a290>,\n",
       "  <matplotlib.lines.Line2D at 0x11954a950>]}"
      ]
     },
     "execution_count": 22,
     "metadata": {},
     "output_type": "execute_result"
    },
    {
     "data": {
      "image/png": "[encoded data removed]",
      "text/plain": [
       "<matplotlib.figure.Figure at 0x118784b10>"
      ]
     },
     "metadata": {},
     "output_type": "display_data"
    }
   ],
   "source": [
    "#plt.hist(motions['front_distance'])\n",
    "plt.boxplot(motions['front_distance'])"
   ]
  },
  {
   "cell_type": "code",
   "execution_count": 23,
   "metadata": {
    "collapsed": false
   },
   "outputs": [
    {
     "data": {
      "text/plain": [
       "4      25895\n",
       "7      22417\n",
       "1       9969\n",
       "5       6595\n",
       "6        807\n",
       "100      203\n",
       "900      141\n",
       "Name: event, dtype: int64"
      ]
     },
     "execution_count": 23,
     "metadata": {},
     "output_type": "execute_result"
    }
   ],
   "source": [
    "motions['event'].value_counts()"
   ]
  },
  {
   "cell_type": "markdown",
   "metadata": {},
   "source": [
    "# miles"
   ]
  },
  {
   "cell_type": "code",
   "execution_count": 24,
   "metadata": {
    "collapsed": true
   },
   "outputs": [],
   "source": [
    "miles['mile_id']=miles['mile_id'].apply(str)\n",
    "miles['period_id']=miles['period_id'].apply(str)\n",
    "miles['motion_id']=miles['motion_id'].apply(str)"
   ]
  },
  {
   "cell_type": "code",
   "execution_count": 25,
   "metadata": {
    "collapsed": false
   },
   "outputs": [
    {
     "data": {
      "text/html": [
       "<div>\n",
       "<table border=\"1\" class=\"dataframe\">\n",
       "  <thead>\n",
       "    <tr style=\"text-align: right;\">\n",
       "      <th></th>\n",
       "      <th>mile_id</th>\n",
       "      <th>period_id</th>\n",
       "      <th>motion_id</th>\n",
       "      <th>mileage</th>\n",
       "      <th>collision_mileage</th>\n",
       "    </tr>\n",
       "  </thead>\n",
       "  <tbody>\n",
       "    <tr>\n",
       "      <th>count</th>\n",
       "      <td>887</td>\n",
       "      <td>887</td>\n",
       "      <td>887</td>\n",
       "      <td>887.000000</td>\n",
       "      <td>887.000000</td>\n",
       "    </tr>\n",
       "    <tr>\n",
       "      <th>unique</th>\n",
       "      <td>887</td>\n",
       "      <td>72</td>\n",
       "      <td>887</td>\n",
       "      <td>NaN</td>\n",
       "      <td>NaN</td>\n",
       "    </tr>\n",
       "    <tr>\n",
       "      <th>top</th>\n",
       "      <td>9518</td>\n",
       "      <td>739</td>\n",
       "      <td>9518</td>\n",
       "      <td>NaN</td>\n",
       "      <td>NaN</td>\n",
       "    </tr>\n",
       "    <tr>\n",
       "      <th>freq</th>\n",
       "      <td>1</td>\n",
       "      <td>253</td>\n",
       "      <td>1</td>\n",
       "      <td>NaN</td>\n",
       "      <td>NaN</td>\n",
       "    </tr>\n",
       "    <tr>\n",
       "      <th>mean</th>\n",
       "      <td>NaN</td>\n",
       "      <td>NaN</td>\n",
       "      <td>NaN</td>\n",
       "      <td>11.152108</td>\n",
       "      <td>3.685383</td>\n",
       "    </tr>\n",
       "    <tr>\n",
       "      <th>std</th>\n",
       "      <td>NaN</td>\n",
       "      <td>NaN</td>\n",
       "      <td>NaN</td>\n",
       "      <td>17.267628</td>\n",
       "      <td>5.930023</td>\n",
       "    </tr>\n",
       "    <tr>\n",
       "      <th>min</th>\n",
       "      <td>NaN</td>\n",
       "      <td>NaN</td>\n",
       "      <td>NaN</td>\n",
       "      <td>0.000000</td>\n",
       "      <td>0.000000</td>\n",
       "    </tr>\n",
       "    <tr>\n",
       "      <th>25%</th>\n",
       "      <td>NaN</td>\n",
       "      <td>NaN</td>\n",
       "      <td>NaN</td>\n",
       "      <td>0.461221</td>\n",
       "      <td>0.028273</td>\n",
       "    </tr>\n",
       "    <tr>\n",
       "      <th>50%</th>\n",
       "      <td>NaN</td>\n",
       "      <td>NaN</td>\n",
       "      <td>NaN</td>\n",
       "      <td>2.533847</td>\n",
       "      <td>0.666158</td>\n",
       "    </tr>\n",
       "    <tr>\n",
       "      <th>75%</th>\n",
       "      <td>NaN</td>\n",
       "      <td>NaN</td>\n",
       "      <td>NaN</td>\n",
       "      <td>12.383968</td>\n",
       "      <td>4.788550</td>\n",
       "    </tr>\n",
       "    <tr>\n",
       "      <th>max</th>\n",
       "      <td>NaN</td>\n",
       "      <td>NaN</td>\n",
       "      <td>NaN</td>\n",
       "      <td>73.094185</td>\n",
       "      <td>30.291168</td>\n",
       "    </tr>\n",
       "  </tbody>\n",
       "</table>\n",
       "</div>"
      ],
      "text/plain": [
       "       mile_id period_id motion_id     mileage  collision_mileage\n",
       "count      887       887       887  887.000000         887.000000\n",
       "unique     887        72       887         NaN                NaN\n",
       "top       9518       739      9518         NaN                NaN\n",
       "freq         1       253         1         NaN                NaN\n",
       "mean       NaN       NaN       NaN   11.152108           3.685383\n",
       "std        NaN       NaN       NaN   17.267628           5.930023\n",
       "min        NaN       NaN       NaN    0.000000           0.000000\n",
       "25%        NaN       NaN       NaN    0.461221           0.028273\n",
       "50%        NaN       NaN       NaN    2.533847           0.666158\n",
       "75%        NaN       NaN       NaN   12.383968           4.788550\n",
       "max        NaN       NaN       NaN   73.094185          30.291168"
      ]
     },
     "execution_count": 25,
     "metadata": {},
     "output_type": "execute_result"
    }
   ],
   "source": [
    "miles.describe(include='all')"
   ]
  },
  {
   "cell_type": "code",
   "execution_count": 27,
   "metadata": {
    "collapsed": false,
    "scrolled": true
   },
   "outputs": [
    {
     "data": {
      "text/plain": [
       "{'boxes': [<matplotlib.lines.Line2D at 0x119689450>],\n",
       " 'caps': [<matplotlib.lines.Line2D at 0x1196972d0>,\n",
       "  <matplotlib.lines.Line2D at 0x119697910>],\n",
       " 'fliers': [<matplotlib.lines.Line2D at 0x1196a45d0>],\n",
       " 'means': [],\n",
       " 'medians': [<matplotlib.lines.Line2D at 0x119697f50>],\n",
       " 'whiskers': [<matplotlib.lines.Line2D at 0x119689590>,\n",
       "  <matplotlib.lines.Line2D at 0x119689c50>]}"
      ]
     },
     "execution_count": 27,
     "metadata": {},
     "output_type": "execute_result"
    },
    {
     "data": {
      "image/png": "[encoded data removed]",
      "text/plain": [
       "<matplotlib.figure.Figure at 0x1188b8210>"
      ]
     },
     "metadata": {},
     "output_type": "display_data"
    }
   ],
   "source": [
    "# plt.hist(miles['mileage'])\n",
    "plt.boxplot(miles['mileage'])"
   ]
  },
  {
   "cell_type": "code",
   "execution_count": 28,
   "metadata": {
    "collapsed": false
   },
   "outputs": [
    {
     "data": {
      "text/plain": [
       "{'boxes': [<matplotlib.lines.Line2D at 0x11974dad0>],\n",
       " 'caps': [<matplotlib.lines.Line2D at 0x11975d950>,\n",
       "  <matplotlib.lines.Line2D at 0x11975df90>],\n",
       " 'fliers': [<matplotlib.lines.Line2D at 0x119767c50>],\n",
       " 'means': [],\n",
       " 'medians': [<matplotlib.lines.Line2D at 0x119767610>],\n",
       " 'whiskers': [<matplotlib.lines.Line2D at 0x11974dc10>,\n",
       "  <matplotlib.lines.Line2D at 0x11975d310>]}"
      ]
     },
     "execution_count": 28,
     "metadata": {},
     "output_type": "execute_result"
    },
    {
     "data": {
      "image/png": "[encoded data removed]",
      "text/plain": [
       "<matplotlib.figure.Figure at 0x119642810>"
      ]
     },
     "metadata": {},
     "output_type": "display_data"
    }
   ],
   "source": [
    "# plt.hist(miles['collision_mileage'])\n",
    "plt.boxplot(miles['collision_mileage'])"
   ]
  },
  {
   "cell_type": "markdown",
   "metadata": {},
   "source": [
    "# collisions"
   ]
  },
  {
   "cell_type": "code",
   "execution_count": 30,
   "metadata": {
    "collapsed": false
   },
   "outputs": [],
   "source": [
    "collisions['collision_id']=collisions['collision_id'].apply(str)\n",
    "collisions['motion_id']=collisions['motion_id'].apply(str)\n",
    "collisions['reaction']=collisions['reaction'].apply(str)"
   ]
  },
  {
   "cell_type": "code",
   "execution_count": 32,
   "metadata": {
    "collapsed": false
   },
   "outputs": [
    {
     "data": {
      "text/html": [
       "<div>\n",
       "<table border=\"1\" class=\"dataframe\">\n",
       "  <thead>\n",
       "    <tr style=\"text-align: right;\">\n",
       "      <th></th>\n",
       "      <th>collision_id</th>\n",
       "      <th>motion_id</th>\n",
       "      <th>reaction</th>\n",
       "      <th>reduction_speed</th>\n",
       "    </tr>\n",
       "  </thead>\n",
       "  <tbody>\n",
       "    <tr>\n",
       "      <th>count</th>\n",
       "      <td>6595</td>\n",
       "      <td>6595</td>\n",
       "      <td>6595</td>\n",
       "      <td>6595.000000</td>\n",
       "    </tr>\n",
       "    <tr>\n",
       "      <th>unique</th>\n",
       "      <td>6595</td>\n",
       "      <td>6595</td>\n",
       "      <td>4</td>\n",
       "      <td>NaN</td>\n",
       "    </tr>\n",
       "    <tr>\n",
       "      <th>top</th>\n",
       "      <td>7443</td>\n",
       "      <td>45802</td>\n",
       "      <td>1.0</td>\n",
       "      <td>NaN</td>\n",
       "    </tr>\n",
       "    <tr>\n",
       "      <th>freq</th>\n",
       "      <td>1</td>\n",
       "      <td>1</td>\n",
       "      <td>6040</td>\n",
       "      <td>NaN</td>\n",
       "    </tr>\n",
       "    <tr>\n",
       "      <th>mean</th>\n",
       "      <td>NaN</td>\n",
       "      <td>NaN</td>\n",
       "      <td>NaN</td>\n",
       "      <td>0.082638</td>\n",
       "    </tr>\n",
       "    <tr>\n",
       "      <th>std</th>\n",
       "      <td>NaN</td>\n",
       "      <td>NaN</td>\n",
       "      <td>NaN</td>\n",
       "      <td>0.855140</td>\n",
       "    </tr>\n",
       "    <tr>\n",
       "      <th>min</th>\n",
       "      <td>NaN</td>\n",
       "      <td>NaN</td>\n",
       "      <td>NaN</td>\n",
       "      <td>0.000000</td>\n",
       "    </tr>\n",
       "    <tr>\n",
       "      <th>25%</th>\n",
       "      <td>NaN</td>\n",
       "      <td>NaN</td>\n",
       "      <td>NaN</td>\n",
       "      <td>0.000000</td>\n",
       "    </tr>\n",
       "    <tr>\n",
       "      <th>50%</th>\n",
       "      <td>NaN</td>\n",
       "      <td>NaN</td>\n",
       "      <td>NaN</td>\n",
       "      <td>0.000000</td>\n",
       "    </tr>\n",
       "    <tr>\n",
       "      <th>75%</th>\n",
       "      <td>NaN</td>\n",
       "      <td>NaN</td>\n",
       "      <td>NaN</td>\n",
       "      <td>0.000000</td>\n",
       "    </tr>\n",
       "    <tr>\n",
       "      <th>max</th>\n",
       "      <td>NaN</td>\n",
       "      <td>NaN</td>\n",
       "      <td>NaN</td>\n",
       "      <td>19.000000</td>\n",
       "    </tr>\n",
       "  </tbody>\n",
       "</table>\n",
       "</div>"
      ],
      "text/plain": [
       "       collision_id motion_id reaction  reduction_speed\n",
       "count          6595      6595     6595      6595.000000\n",
       "unique         6595      6595        4              NaN\n",
       "top            7443     45802      1.0              NaN\n",
       "freq              1         1     6040              NaN\n",
       "mean            NaN       NaN      NaN         0.082638\n",
       "std             NaN       NaN      NaN         0.855140\n",
       "min             NaN       NaN      NaN         0.000000\n",
       "25%             NaN       NaN      NaN         0.000000\n",
       "50%             NaN       NaN      NaN         0.000000\n",
       "75%             NaN       NaN      NaN         0.000000\n",
       "max             NaN       NaN      NaN        19.000000"
      ]
     },
     "execution_count": 32,
     "metadata": {},
     "output_type": "execute_result"
    }
   ],
   "source": [
    "collisions.describe(include='all')"
   ]
  },
  {
   "cell_type": "code",
   "execution_count": 33,
   "metadata": {
    "collapsed": false
   },
   "outputs": [
    {
     "data": {
      "text/plain": [
       "1.0    6040\n",
       "3.0     346\n",
       "nan     183\n",
       "2.0      26\n",
       "Name: reaction, dtype: int64"
      ]
     },
     "execution_count": 33,
     "metadata": {},
     "output_type": "execute_result"
    }
   ],
   "source": [
    "collisions['reaction'].value_counts()"
   ]
  },
  {
   "cell_type": "code",
   "execution_count": 41,
   "metadata": {
    "collapsed": false
   },
   "outputs": [
    {
     "data": {
      "text/plain": [
       "(array([  6.51900000e+03,   0.00000000e+00,   3.50000000e+01,\n",
       "          2.30000000e+01,   4.00000000e+00,   9.00000000e+00,\n",
       "          0.00000000e+00,   0.00000000e+00,   0.00000000e+00,\n",
       "          5.00000000e+00]),\n",
       " array([  0. ,   1.9,   3.8,   5.7,   7.6,   9.5,  11.4,  13.3,  15.2,\n",
       "         17.1,  19. ]),\n",
       " <a list of 10 Patch objects>)"
      ]
     },
     "execution_count": 41,
     "metadata": {},
     "output_type": "execute_result"
    },
    {
     "data": {
      "image/png": "[encoded data removed]",
      "text/plain": [
       "<matplotlib.figure.Figure at 0x12766e810>"
      ]
     },
     "metadata": {},
     "output_type": "display_data"
    }
   ],
   "source": [
    "plt.hist(collisions['reduction_speed'])\n",
    "# plt.boxplot(collisions['reduction_speed'])"
   ]
  },
  {
   "cell_type": "markdown",
   "metadata": {},
   "source": [
    "# departures"
   ]
  },
  {
   "cell_type": "code",
   "execution_count": 43,
   "metadata": {
    "collapsed": false
   },
   "outputs": [],
   "source": [
    "departures['departure_id']=departures['departure_id'].apply(str)\n",
    "departures['motion_id']=departures['motion_id'].apply(str)\n",
    "departures['lane_kind']=departures['lane_kind'].apply(str)\n",
    "departures['reaction']=departures['reaction'].apply(str)\n",
    "departures['direction']=departures['direction'].apply(str)"
   ]
  },
  {
   "cell_type": "code",
   "execution_count": 44,
   "metadata": {
    "collapsed": false
   },
   "outputs": [
    {
     "data": {
      "text/html": [
       "<div>\n",
       "<table border=\"1\" class=\"dataframe\">\n",
       "  <thead>\n",
       "    <tr style=\"text-align: right;\">\n",
       "      <th></th>\n",
       "      <th>departure_id</th>\n",
       "      <th>motion_id</th>\n",
       "      <th>lane_kind</th>\n",
       "      <th>reaction</th>\n",
       "      <th>direction</th>\n",
       "    </tr>\n",
       "  </thead>\n",
       "  <tbody>\n",
       "    <tr>\n",
       "      <th>count</th>\n",
       "      <td>25896</td>\n",
       "      <td>25896</td>\n",
       "      <td>25896</td>\n",
       "      <td>25896</td>\n",
       "      <td>25896</td>\n",
       "    </tr>\n",
       "    <tr>\n",
       "      <th>unique</th>\n",
       "      <td>25896</td>\n",
       "      <td>25895</td>\n",
       "      <td>1</td>\n",
       "      <td>1</td>\n",
       "      <td>3</td>\n",
       "    </tr>\n",
       "    <tr>\n",
       "      <th>top</th>\n",
       "      <td>7443</td>\n",
       "      <td>74610</td>\n",
       "      <td>1</td>\n",
       "      <td>1</td>\n",
       "      <td>1.0</td>\n",
       "    </tr>\n",
       "    <tr>\n",
       "      <th>freq</th>\n",
       "      <td>1</td>\n",
       "      <td>2</td>\n",
       "      <td>25896</td>\n",
       "      <td>25896</td>\n",
       "      <td>14149</td>\n",
       "    </tr>\n",
       "  </tbody>\n",
       "</table>\n",
       "</div>"
      ],
      "text/plain": [
       "       departure_id motion_id lane_kind reaction direction\n",
       "count         25896     25896     25896    25896     25896\n",
       "unique        25896     25895         1        1         3\n",
       "top            7443     74610         1        1       1.0\n",
       "freq              1         2     25896    25896     14149"
      ]
     },
     "execution_count": 44,
     "metadata": {},
     "output_type": "execute_result"
    }
   ],
   "source": [
    "departures.describe(include='all')"
   ]
  },
  {
   "cell_type": "code",
   "execution_count": 46,
   "metadata": {
    "collapsed": false
   },
   "outputs": [
    {
     "data": {
      "text/plain": [
       "1    25896\n",
       "Name: lane_kind, dtype: int64"
      ]
     },
     "execution_count": 46,
     "metadata": {},
     "output_type": "execute_result"
    }
   ],
   "source": [
    "departures['lane_kind'].value_counts()"
   ]
  },
  {
   "cell_type": "code",
   "execution_count": 47,
   "metadata": {
    "collapsed": false
   },
   "outputs": [
    {
     "data": {
      "text/plain": [
       "1    25896\n",
       "Name: reaction, dtype: int64"
      ]
     },
     "execution_count": 47,
     "metadata": {},
     "output_type": "execute_result"
    }
   ],
   "source": [
    "departures['reaction'].value_counts()"
   ]
  },
  {
   "cell_type": "code",
   "execution_count": 45,
   "metadata": {
    "collapsed": false
   },
   "outputs": [
    {
     "data": {
      "text/plain": [
       "1.0    14149\n",
       "2.0    11717\n",
       "nan       30\n",
       "Name: direction, dtype: int64"
      ]
     },
     "execution_count": 45,
     "metadata": {},
     "output_type": "execute_result"
    }
   ],
   "source": [
    "departures['direction'].value_counts()"
   ]
  },
  {
   "cell_type": "markdown",
   "metadata": {},
   "source": [
    "# fronts"
   ]
  },
  {
   "cell_type": "code",
   "execution_count": 48,
   "metadata": {
    "collapsed": true
   },
   "outputs": [],
   "source": [
    "fronts['front_id']=fronts['front_id'].apply(str)\n",
    "fronts['motion_id']=fronts['motion_id'].apply(str)"
   ]
  },
  {
   "cell_type": "code",
   "execution_count": 49,
   "metadata": {
    "collapsed": false
   },
   "outputs": [
    {
     "data": {
      "text/html": [
       "<div>\n",
       "<table border=\"1\" class=\"dataframe\">\n",
       "  <thead>\n",
       "    <tr style=\"text-align: right;\">\n",
       "      <th></th>\n",
       "      <th>front_id</th>\n",
       "      <th>motion_id</th>\n",
       "      <th>situation</th>\n",
       "      <th>front_reduction_speed</th>\n",
       "    </tr>\n",
       "  </thead>\n",
       "  <tbody>\n",
       "    <tr>\n",
       "      <th>count</th>\n",
       "      <td>22417</td>\n",
       "      <td>22417</td>\n",
       "      <td>208.0</td>\n",
       "      <td>22417.000000</td>\n",
       "    </tr>\n",
       "    <tr>\n",
       "      <th>unique</th>\n",
       "      <td>22417</td>\n",
       "      <td>22417</td>\n",
       "      <td>NaN</td>\n",
       "      <td>NaN</td>\n",
       "    </tr>\n",
       "    <tr>\n",
       "      <th>top</th>\n",
       "      <td>7443</td>\n",
       "      <td>38346</td>\n",
       "      <td>NaN</td>\n",
       "      <td>NaN</td>\n",
       "    </tr>\n",
       "    <tr>\n",
       "      <th>freq</th>\n",
       "      <td>1</td>\n",
       "      <td>1</td>\n",
       "      <td>NaN</td>\n",
       "      <td>NaN</td>\n",
       "    </tr>\n",
       "    <tr>\n",
       "      <th>mean</th>\n",
       "      <td>NaN</td>\n",
       "      <td>NaN</td>\n",
       "      <td>1.0</td>\n",
       "      <td>20.970781</td>\n",
       "    </tr>\n",
       "    <tr>\n",
       "      <th>std</th>\n",
       "      <td>NaN</td>\n",
       "      <td>NaN</td>\n",
       "      <td>0.0</td>\n",
       "      <td>8.378338</td>\n",
       "    </tr>\n",
       "    <tr>\n",
       "      <th>min</th>\n",
       "      <td>NaN</td>\n",
       "      <td>NaN</td>\n",
       "      <td>1.0</td>\n",
       "      <td>0.000000</td>\n",
       "    </tr>\n",
       "    <tr>\n",
       "      <th>25%</th>\n",
       "      <td>NaN</td>\n",
       "      <td>NaN</td>\n",
       "      <td>1.0</td>\n",
       "      <td>16.000000</td>\n",
       "    </tr>\n",
       "    <tr>\n",
       "      <th>50%</th>\n",
       "      <td>NaN</td>\n",
       "      <td>NaN</td>\n",
       "      <td>1.0</td>\n",
       "      <td>18.000000</td>\n",
       "    </tr>\n",
       "    <tr>\n",
       "      <th>75%</th>\n",
       "      <td>NaN</td>\n",
       "      <td>NaN</td>\n",
       "      <td>1.0</td>\n",
       "      <td>23.000000</td>\n",
       "    </tr>\n",
       "    <tr>\n",
       "      <th>max</th>\n",
       "      <td>NaN</td>\n",
       "      <td>NaN</td>\n",
       "      <td>1.0</td>\n",
       "      <td>50.000000</td>\n",
       "    </tr>\n",
       "  </tbody>\n",
       "</table>\n",
       "</div>"
      ],
      "text/plain": [
       "       front_id motion_id  situation  front_reduction_speed\n",
       "count     22417     22417      208.0           22417.000000\n",
       "unique    22417     22417        NaN                    NaN\n",
       "top        7443     38346        NaN                    NaN\n",
       "freq          1         1        NaN                    NaN\n",
       "mean        NaN       NaN        1.0              20.970781\n",
       "std         NaN       NaN        0.0               8.378338\n",
       "min         NaN       NaN        1.0               0.000000\n",
       "25%         NaN       NaN        1.0              16.000000\n",
       "50%         NaN       NaN        1.0              18.000000\n",
       "75%         NaN       NaN        1.0              23.000000\n",
       "max         NaN       NaN        1.0              50.000000"
      ]
     },
     "execution_count": 49,
     "metadata": {},
     "output_type": "execute_result"
    }
   ],
   "source": [
    "fronts.describe(include='all')"
   ]
  },
  {
   "cell_type": "code",
   "execution_count": 50,
   "metadata": {
    "collapsed": false
   },
   "outputs": [
    {
     "data": {
      "text/plain": [
       "1.0    208\n",
       "Name: situation, dtype: int64"
      ]
     },
     "execution_count": 50,
     "metadata": {},
     "output_type": "execute_result"
    }
   ],
   "source": [
    "fronts['situation'].value_counts()"
   ]
  },
  {
   "cell_type": "code",
   "execution_count": 53,
   "metadata": {
    "collapsed": false
   },
   "outputs": [
    {
     "data": {
      "text/plain": [
       "{'boxes': [<matplotlib.lines.Line2D at 0x114cb3bd0>],\n",
       " 'caps': [<matplotlib.lines.Line2D at 0x114cc2a50>,\n",
       "  <matplotlib.lines.Line2D at 0x114ccf0d0>],\n",
       " 'fliers': [<matplotlib.lines.Line2D at 0x114ccfd50>],\n",
       " 'means': [],\n",
       " 'medians': [<matplotlib.lines.Line2D at 0x114ccf710>],\n",
       " 'whiskers': [<matplotlib.lines.Line2D at 0x114cb3d10>,\n",
       "  <matplotlib.lines.Line2D at 0x114cc2410>]}"
      ]
     },
     "execution_count": 53,
     "metadata": {},
     "output_type": "execute_result"
    },
    {
     "data": {
      "image/png": "[encoded data removed]",
      "text/plain": [
       "<matplotlib.figure.Figure at 0x128845790>"
      ]
     },
     "metadata": {},
     "output_type": "display_data"
    }
   ],
   "source": [
    "#plt.hist(fronts['front_reduction_speed'])\n",
    "plt.boxplot(fronts['front_reduction_speed'])"
   ]
  },
  {
   "cell_type": "markdown",
   "metadata": {},
   "source": [
    "# suddens"
   ]
  },
  {
   "cell_type": "code",
   "execution_count": 54,
   "metadata": {
    "collapsed": true
   },
   "outputs": [],
   "source": [
    "suddens['sudden_id']=suddens['sudden_id'].apply(str)\n",
    "suddens['motion_id']=suddens['motion_id'].apply(str)\n",
    "suddens['situation']=suddens['situation'].apply(str)\n",
    "suddens['front_reason']=suddens['front_reason'].apply(str)"
   ]
  },
  {
   "cell_type": "code",
   "execution_count": 55,
   "metadata": {
    "collapsed": false
   },
   "outputs": [
    {
     "data": {
      "text/html": [
       "<div>\n",
       "<table border=\"1\" class=\"dataframe\">\n",
       "  <thead>\n",
       "    <tr style=\"text-align: right;\">\n",
       "      <th></th>\n",
       "      <th>sudden_id</th>\n",
       "      <th>motion_id</th>\n",
       "      <th>situation</th>\n",
       "      <th>front_reason</th>\n",
       "    </tr>\n",
       "  </thead>\n",
       "  <tbody>\n",
       "    <tr>\n",
       "      <th>count</th>\n",
       "      <td>807</td>\n",
       "      <td>807</td>\n",
       "      <td>807</td>\n",
       "      <td>807</td>\n",
       "    </tr>\n",
       "    <tr>\n",
       "      <th>unique</th>\n",
       "      <td>807</td>\n",
       "      <td>807</td>\n",
       "      <td>3</td>\n",
       "      <td>2</td>\n",
       "    </tr>\n",
       "    <tr>\n",
       "      <th>top</th>\n",
       "      <td>1182</td>\n",
       "      <td>479</td>\n",
       "      <td>3.0</td>\n",
       "      <td>0</td>\n",
       "    </tr>\n",
       "    <tr>\n",
       "      <th>freq</th>\n",
       "      <td>1</td>\n",
       "      <td>1</td>\n",
       "      <td>713</td>\n",
       "      <td>627</td>\n",
       "    </tr>\n",
       "  </tbody>\n",
       "</table>\n",
       "</div>"
      ],
      "text/plain": [
       "       sudden_id motion_id situation front_reason\n",
       "count        807       807       807          807\n",
       "unique       807       807         3            2\n",
       "top         1182       479       3.0            0\n",
       "freq           1         1       713          627"
      ]
     },
     "execution_count": 55,
     "metadata": {},
     "output_type": "execute_result"
    }
   ],
   "source": [
    "suddens.describe(include='all')"
   ]
  },
  {
   "cell_type": "code",
   "execution_count": 56,
   "metadata": {
    "collapsed": false
   },
   "outputs": [
    {
     "data": {
      "text/plain": [
       "3.0    713\n",
       "nan     64\n",
       "1.0     30\n",
       "Name: situation, dtype: int64"
      ]
     },
     "execution_count": 56,
     "metadata": {},
     "output_type": "execute_result"
    }
   ],
   "source": [
    "suddens['situation'].value_counts()"
   ]
  },
  {
   "cell_type": "code",
   "execution_count": 57,
   "metadata": {
    "collapsed": false
   },
   "outputs": [
    {
     "data": {
      "text/plain": [
       "0    627\n",
       "1    180\n",
       "Name: front_reason, dtype: int64"
      ]
     },
     "execution_count": 57,
     "metadata": {},
     "output_type": "execute_result"
    }
   ],
   "source": [
    "suddens['front_reason'].value_counts()"
   ]
  },
  {
   "cell_type": "code",
   "execution_count": null,
   "metadata": {
    "collapsed": true
   },
   "outputs": [],
   "source": []
  }
 ],
 "metadata": {
  "kernelspec": {
   "display_name": "Python 2",
   "language": "python",
   "name": "python2"
  },
  "language_info": {
   "codemirror_mode": {
    "name": "ipython",
    "version": 2
   },
   "file_extension": ".py",
   "mimetype": "text/x-python",
   "name": "python",
   "nbconvert_exporter": "python",
   "pygments_lexer": "ipython2",
   "version": "2.7.11"
  }
 },
 "nbformat": 4,
 "nbformat_minor": 0
}
